{
    "metadata": {
        "kernelspec": {
            "name": "SQL",
            "display_name": "SQL",
            "language": "sql"
        },
        "language_info": {
            "name": "sql",
            "version": ""
        }
    },
    "nbformat_minor": 2,
    "nbformat": 4,
    "cells": [
        {
            "cell_type": "markdown",
            "source": [
                "Listázzuk azon vendégek nevét, email-címét és felhasználói nevét, akik egynél többször foglaltak!\n",
                "\n",
                "- Hagyjuk ki azokat a vendégeket, akik május hónapban születtek!"
            ],
            "metadata": {
                "azdata_cell_guid": "585f6fb2-79db-4484-9798-c605d9305930"
            },
            "attachments": {}
        },
        {
            "cell_type": "code",
            "source": [
                "SELECT DISTINCT nev, email, usernev, FoglalasokSzama\r\n",
                "FROM (\r\n",
                "    SELECT v.NEV AS nev, v.EMAIL as email, v.USERNEV as usernev, COUNT(f.UGYFEL_FK) OVER(PARTITION BY v.USERNEV) AS FoglalasokSzama\r\n",
                "    FROM Vendeg v\r\n",
                "    LEFT JOIN Foglalas f ON v.USERNEV = f.UGYFEL_FK\r\n",
                ") AS allekerdezes\r\n",
                "WHERE allekerdezes.FoglalasokSzama > 1;"
            ],
            "metadata": {
                "azdata_cell_guid": "781406f7-0abd-4149-af0b-7aef3f6db954",
                "language": "sql"
            },
            "outputs": [
                {
                    "output_type": "display_data",
                    "data": {
                        "text/html": "Warning: Null value is eliminated by an aggregate or other SET operation."
                    },
                    "metadata": {}
                },
                {
                    "output_type": "display_data",
                    "data": {
                        "text/html": "(187 rows affected)"
                    },
                    "metadata": {}
                },
                {
                    "output_type": "display_data",
                    "data": {
                        "text/html": "Total execution time: 00:00:00.083"
                    },
                    "metadata": {}
                },
                {
                    "output_type": "execute_result",
                    "metadata": {},
                    "execution_count": 11,
                    "data": {
                        "application/vnd.dataresource+json": {
                            "schema": {
                                "fields": [
                                    {
                                        "name": "nev"
                                    },
                                    {
                                        "name": "email"
                                    },
                                    {
                                        "name": "usernev"
                                    },
                                    {
                                        "name": "FoglalasokSzama"
                                    }
                                ]
                            },
                            "data": [
                                {
                                    "nev": "Kiss Ádám",
                                    "email": "ádám.kiss@mail.hu",
                                    "usernev": "adam1",
                                    "FoglalasokSzama": "3"
                                },
                                {
                                    "nev": "Barkóci Ádám",
                                    "email": "adam3@gmail.com",
                                    "usernev": "adam3",
                                    "FoglalasokSzama": "2"
                                },
                                {
                                    "nev": "Bieniek Ádám",
                                    "email": "ádám.bieniek@mail.hu",
                                    "usernev": "adam4",
                                    "FoglalasokSzama": "6"
                                },
                                {
                                    "nev": "Lengyel Ágnes",
                                    "email": "agnes@gmail.com",
                                    "usernev": "agnes",
                                    "FoglalasokSzama": "5"
                                },
                                {
                                    "nev": "Hartyánszky Ágnes",
                                    "email": "agnes3@gmail.com",
                                    "usernev": "agnes3",
                                    "FoglalasokSzama": "3"
                                },
                                {
                                    "nev": "Horváth Ágnes",
                                    "email": "AGNESH@gmail.com",
                                    "usernev": "AGNESH",
                                    "FoglalasokSzama": "6"
                                },
                                {
                                    "nev": "Kovács Ágnes",
                                    "email": "AGNESK@gmail.com",
                                    "usernev": "AGNESK",
                                    "FoglalasokSzama": "3"
                                },
                                {
                                    "nev": "Bíró Ákos",
                                    "email": "ákos.bíró@mail.hu",
                                    "usernev": "akos",
                                    "FoglalasokSzama": "10"
                                },
                                {
                                    "nev": "Dunai Aladár",
                                    "email": "aladár.dunai@mail.hu",
                                    "usernev": "aladar",
                                    "FoglalasokSzama": "3"
                                },
                                {
                                    "nev": "Bagóczki Alexandra",
                                    "email": "alexandra.bagóczki@mail.hu",
                                    "usernev": "alexandra",
                                    "FoglalasokSzama": "7"
                                },
                                {
                                    "nev": "Maródi Andrea",
                                    "email": "andrea.maródi@mail.hu",
                                    "usernev": "andi",
                                    "FoglalasokSzama": "5"
                                },
                                {
                                    "nev": "Tóth András",
                                    "email": "andrás.tóth@mail.hu",
                                    "usernev": "andras2",
                                    "FoglalasokSzama": "5"
                                },
                                {
                                    "nev": "Molnár András",
                                    "email": "andrás.molnár@mail.hu",
                                    "usernev": "andras21",
                                    "FoglalasokSzama": "7"
                                },
                                {
                                    "nev": "Vígh András",
                                    "email": "andrás.vígh@mail.hu",
                                    "usernev": "andras3",
                                    "FoglalasokSzama": "8"
                                },
                                {
                                    "nev": "Back András",
                                    "email": "andras4@gmail.com",
                                    "usernev": "andras4",
                                    "FoglalasokSzama": "3"
                                },
                                {
                                    "nev": "Komjáti András",
                                    "email": "andras41@gmail.com",
                                    "usernev": "andras41",
                                    "FoglalasokSzama": "13"
                                },
                                {
                                    "nev": "Erdei András",
                                    "email": "ANDRASE@gmail.com",
                                    "usernev": "ANDRASE",
                                    "FoglalasokSzama": "5"
                                },
                                {
                                    "nev": "Kiss Andrea",
                                    "email": "andrea.kiss@mail.hu",
                                    "usernev": "andrea",
                                    "FoglalasokSzama": "6"
                                },
                                {
                                    "nev": "Neizer Andrea",
                                    "email": "andrea4@gmail.com",
                                    "usernev": "andrea4",
                                    "FoglalasokSzama": "4"
                                },
                                {
                                    "nev": "Tornyos Andrea",
                                    "email": "ANDREAT@gmail.com",
                                    "usernev": "ANDREAT",
                                    "FoglalasokSzama": "3"
                                },
                                {
                                    "nev": "Pivarcsi Anett",
                                    "email": "anett.pivarcsi@mail.hu",
                                    "usernev": "anett3",
                                    "FoglalasokSzama": "8"
                                },
                                {
                                    "nev": "Tóth Anikó",
                                    "email": "aniko@gmail.com",
                                    "usernev": "aniko",
                                    "FoglalasokSzama": "3"
                                },
                                {
                                    "nev": "Böröcz Anikó",
                                    "email": "aniko4@gmail.com",
                                    "usernev": "aniko4",
                                    "FoglalasokSzama": "4"
                                },
                                {
                                    "nev": "Simon Anikó",
                                    "email": "ANIKOS@gmail.com",
                                    "usernev": "ANIKOS",
                                    "FoglalasokSzama": "9"
                                },
                                {
                                    "nev": "Hamvay-Kovács Anita",
                                    "email": "anita.hamvay-kovács@mail.hu",
                                    "usernev": "anita",
                                    "FoglalasokSzama": "4"
                                },
                                {
                                    "nev": "Szűcs Annamária",
                                    "email": "annamária.szűcs@mail.hu",
                                    "usernev": "annamaria1",
                                    "FoglalasokSzama": "2"
                                },
                                {
                                    "nev": "Regős Annamária",
                                    "email": "ANNAMARIAR@gmail.com",
                                    "usernev": "ANNAMARIAR",
                                    "FoglalasokSzama": "6"
                                },
                                {
                                    "nev": "Jakab Áron",
                                    "email": "aron2@gmail.com",
                                    "usernev": "aron2",
                                    "FoglalasokSzama": "6"
                                },
                                {
                                    "nev": "Kelemen Áron",
                                    "email": "áron.kelemen@mail.hu",
                                    "usernev": "ARONK",
                                    "FoglalasokSzama": "13"
                                },
                                {
                                    "nev": "Ötvös Árpád",
                                    "email": "árpád.ötvös@mail.hu",
                                    "usernev": "arpad2",
                                    "FoglalasokSzama": "7"
                                },
                                {
                                    "nev": "Horváth Árpád",
                                    "email": "árpád.horváth@mail.hu",
                                    "usernev": "ARPADH",
                                    "FoglalasokSzama": "7"
                                },
                                {
                                    "nev": "Móricz Árpád",
                                    "email": "árpád.móricz@mail.hu",
                                    "usernev": "ARPADM",
                                    "FoglalasokSzama": "6"
                                },
                                {
                                    "nev": "Csóti Attila",
                                    "email": "attila@gmail.com",
                                    "usernev": "attila",
                                    "FoglalasokSzama": "3"
                                },
                                {
                                    "nev": "Gulyás Attila",
                                    "email": "attila.gulyás@mail.hu",
                                    "usernev": "attila1",
                                    "FoglalasokSzama": "6"
                                },
                                {
                                    "nev": "Baróti Attila",
                                    "email": "attila.baróti@mail.hu",
                                    "usernev": "attila4",
                                    "FoglalasokSzama": "3"
                                },
                                {
                                    "nev": "Opra Attila",
                                    "email": "ATTILAO@gmail.com",
                                    "usernev": "ATTILAO",
                                    "FoglalasokSzama": "4"
                                },
                                {
                                    "nev": "Bozsik Balázs",
                                    "email": "balázs.bozsik@mail.hu",
                                    "usernev": "balazs1",
                                    "FoglalasokSzama": "6"
                                },
                                {
                                    "nev": "Szűcs Balázs",
                                    "email": "balázs.szűcs@mail.hu",
                                    "usernev": "balazs2",
                                    "FoglalasokSzama": "10"
                                },
                                {
                                    "nev": "Bakódy Balázs",
                                    "email": "balazs3@gmail.com",
                                    "usernev": "balazs3",
                                    "FoglalasokSzama": "6"
                                },
                                {
                                    "nev": "Horváth Bálint",
                                    "email": "balint@gmail.com",
                                    "usernev": "balint",
                                    "FoglalasokSzama": "3"
                                },
                                {
                                    "nev": "Molnár Bálint",
                                    "email": "balint1@gmail.com",
                                    "usernev": "balint1",
                                    "FoglalasokSzama": "10"
                                },
                                {
                                    "nev": "Vukasinovity Bálint",
                                    "email": "balint2@gmail.com",
                                    "usernev": "balint2",
                                    "FoglalasokSzama": "2"
                                },
                                {
                                    "nev": "Endresz Bálint",
                                    "email": "bálint.endresz@mail.hu",
                                    "usernev": "balu",
                                    "FoglalasokSzama": "2"
                                },
                                {
                                    "nev": "Bagi Beáta",
                                    "email": "beáta.bagi@mail.hu",
                                    "usernev": "beata4",
                                    "FoglalasokSzama": "6"
                                },
                                {
                                    "nev": "Kerényi Beatrix",
                                    "email": "beatrix.kerényi@mail.hu",
                                    "usernev": "BEATRIXK",
                                    "FoglalasokSzama": "9"
                                },
                                {
                                    "nev": "Szekendi Beatrix",
                                    "email": "beatrix.szekendi@mail.hu",
                                    "usernev": "BEATRIXS",
                                    "FoglalasokSzama": "6"
                                },
                                {
                                    "nev": "Farkas Béla",
                                    "email": "BELAF@gmail.com",
                                    "usernev": "BELAF",
                                    "FoglalasokSzama": "6"
                                },
                                {
                                    "nev": "Győrffy Bence",
                                    "email": "bence@gmail.com",
                                    "usernev": "bence",
                                    "FoglalasokSzama": "9"
                                },
                                {
                                    "nev": "Bajusz Bence",
                                    "email": "bence.bajusz@mail.hu",
                                    "usernev": "BENCEB",
                                    "FoglalasokSzama": "6"
                                },
                                {
                                    "nev": "Simon Bernadett",
                                    "email": "bernadett1@gmail.com",
                                    "usernev": "bernadett1",
                                    "FoglalasokSzama": "7"
                                },
                                {
                                    "nev": "Kovács Bernadett",
                                    "email": "bernadett.kovács@mail.hu",
                                    "usernev": "bernadett2",
                                    "FoglalasokSzama": "8"
                                },
                                {
                                    "nev": "Orbán Bernadett",
                                    "email": "bernadett.orbán@mail.hu",
                                    "usernev": "BERNADETTO",
                                    "FoglalasokSzama": "7"
                                },
                                {
                                    "nev": "Csiger Bertalan",
                                    "email": "bertalan@gmail.com",
                                    "usernev": "bertalan",
                                    "FoglalasokSzama": "6"
                                },
                                {
                                    "nev": "Székely Brigitta",
                                    "email": "brigitta.székely@mail.hu",
                                    "usernev": "brigitta",
                                    "FoglalasokSzama": "5"
                                },
                                {
                                    "nev": "Pataki Brigitta",
                                    "email": "brigitta.pataki@mail.hu",
                                    "usernev": "brigitta3",
                                    "FoglalasokSzama": "5"
                                },
                                {
                                    "nev": "Nagymihály Csongor",
                                    "email": "csongor.nagymihály@mail.hu",
                                    "usernev": "csongor3",
                                    "FoglalasokSzama": "8"
                                },
                                {
                                    "nev": "Vörös Dániel",
                                    "email": "daniel@gmail.com",
                                    "usernev": "dani",
                                    "FoglalasokSzama": "9"
                                },
                                {
                                    "nev": "Rácz Dániel",
                                    "email": "dániel.rácz@mail.hu",
                                    "usernev": "daniel",
                                    "FoglalasokSzama": "9"
                                },
                                {
                                    "nev": "Keszler Dániel",
                                    "email": "dániel.keszler@mail.hu",
                                    "usernev": "daniel1",
                                    "FoglalasokSzama": "7"
                                },
                                {
                                    "nev": "Ambrus Dávid",
                                    "email": "david@gmail.com",
                                    "usernev": "david",
                                    "FoglalasokSzama": "9"
                                },
                                {
                                    "nev": "Sobják Dávid",
                                    "email": "david1@gmail.com",
                                    "usernev": "david1",
                                    "FoglalasokSzama": "6"
                                },
                                {
                                    "nev": "Barna Debóra",
                                    "email": "debóra.barna@mail.hu",
                                    "usernev": "debora",
                                    "FoglalasokSzama": "4"
                                },
                                {
                                    "nev": "Tömböly Dénes",
                                    "email": "denes@gmail.com",
                                    "usernev": "denes",
                                    "FoglalasokSzama": "6"
                                },
                                {
                                    "nev": "Sarodi Dóra",
                                    "email": "dóra.sarodi@mail.hu",
                                    "usernev": "dora3",
                                    "FoglalasokSzama": "5"
                                },
                                {
                                    "nev": "Bittmann Edit",
                                    "email": "edit.bittmann@mail.hu",
                                    "usernev": "edit",
                                    "FoglalasokSzama": "7"
                                },
                                {
                                    "nev": "Kuruc Emese",
                                    "email": "emese.kuruc@mail.hu",
                                    "usernev": "emese",
                                    "FoglalasokSzama": "7"
                                },
                                {
                                    "nev": "Molnár Eszter",
                                    "email": "eszter.molnár@mail.hu",
                                    "usernev": "eszter",
                                    "FoglalasokSzama": "4"
                                },
                                {
                                    "nev": "Balogh Eszter",
                                    "email": "eszter.balogh@mail.hu",
                                    "usernev": "eszter2",
                                    "FoglalasokSzama": "10"
                                },
                                {
                                    "nev": "Fülöp Eszter",
                                    "email": "eszter.fülöp@mail.hu",
                                    "usernev": "eszter4",
                                    "FoglalasokSzama": "3"
                                },
                                {
                                    "nev": "Érsek Eszter",
                                    "email": "eszter.érsek@mail.hu",
                                    "usernev": "ESZTERE",
                                    "FoglalasokSzama": "4"
                                },
                                {
                                    "nev": "Enyedi Éva",
                                    "email": "eva@gmail.com",
                                    "usernev": "eva",
                                    "FoglalasokSzama": "2"
                                },
                                {
                                    "nev": "Perlinger Éva",
                                    "email": "eva2@gmail.com",
                                    "usernev": "eva2",
                                    "FoglalasokSzama": "4"
                                },
                                {
                                    "nev": "Viktor Éva",
                                    "email": "EVAV@gmail.com",
                                    "usernev": "EVAV",
                                    "FoglalasokSzama": "5"
                                },
                                {
                                    "nev": "Orosz Ferenc",
                                    "email": "ferenc.orosz@mail.hu",
                                    "usernev": "ferenc1",
                                    "FoglalasokSzama": "4"
                                },
                                {
                                    "nev": "Frank Fruzsina",
                                    "email": "fruzsina4@gmail.com",
                                    "usernev": "fruzsina4",
                                    "FoglalasokSzama": "8"
                                },
                                {
                                    "nev": "Köves Gábor",
                                    "email": "gabor1@gmail.com",
                                    "usernev": "gabor1",
                                    "FoglalasokSzama": "6"
                                },
                                {
                                    "nev": "Telek Gábor",
                                    "email": "gábor.telek@mail.hu",
                                    "usernev": "gabor4",
                                    "FoglalasokSzama": "4"
                                },
                                {
                                    "nev": "Nagy Gabriella",
                                    "email": "gabriella1@gmail.com",
                                    "usernev": "gabriella1",
                                    "FoglalasokSzama": "6"
                                },
                                {
                                    "nev": "Nyíri Georgij",
                                    "email": "georgij.nyíri@mail.hu",
                                    "usernev": "georgij",
                                    "FoglalasokSzama": "4"
                                },
                                {
                                    "nev": "Bárci Gusztáv",
                                    "email": "gusztav@gmail.com",
                                    "usernev": "gusztav",
                                    "FoglalasokSzama": "5"
                                },
                                {
                                    "nev": "Kornseé Gyöngyi",
                                    "email": "gyöngyi.kornseé@mail.hu",
                                    "usernev": "GYONGYIK",
                                    "FoglalasokSzama": "7"
                                },
                                {
                                    "nev": "Oroszi György",
                                    "email": "GYORGYO@gmail.com",
                                    "usernev": "GYORGYO",
                                    "FoglalasokSzama": "8"
                                },
                                {
                                    "nev": "Nádudvari Henrik",
                                    "email": "henrik.nádudvari@mail.hu",
                                    "usernev": "henrik3",
                                    "FoglalasokSzama": "3"
                                },
                                {
                                    "nev": "Andor Ibolya",
                                    "email": "ibolya.andor@mail.hu",
                                    "usernev": "IBOLYAA",
                                    "FoglalasokSzama": "3"
                                },
                                {
                                    "nev": "Bosnyák Ilona",
                                    "email": "ilona3@gmail.com",
                                    "usernev": "ilona3",
                                    "FoglalasokSzama": "4"
                                },
                                {
                                    "nev": "Búza Imre",
                                    "email": "imre.búza@mail.hu",
                                    "usernev": "imre",
                                    "FoglalasokSzama": "2"
                                },
                                {
                                    "nev": "Papp Imre",
                                    "email": "imre.papp@mail.hu",
                                    "usernev": "imre1",
                                    "FoglalasokSzama": "7"
                                },
                                {
                                    "nev": "Soós István",
                                    "email": "istvan@gmail.com",
                                    "usernev": "istvan",
                                    "FoglalasokSzama": "3"
                                },
                                {
                                    "nev": "Vizi István",
                                    "email": "istván.vizi@mail.hu",
                                    "usernev": "istvan1",
                                    "FoglalasokSzama": "4"
                                },
                                {
                                    "nev": "Varga István",
                                    "email": "ISTVANV@gmail.com",
                                    "usernev": "ISTVANV",
                                    "FoglalasokSzama": "2"
                                },
                                {
                                    "nev": "Harangozó János",
                                    "email": "janos3@gmail.com",
                                    "usernev": "janos3",
                                    "FoglalasokSzama": "5"
                                },
                                {
                                    "nev": "Giliga János",
                                    "email": "JANOSG@gmail.com",
                                    "usernev": "JANOSG",
                                    "FoglalasokSzama": "7"
                                },
                                {
                                    "nev": "Pálinkás János",
                                    "email": "JANOSP@gmail.com",
                                    "usernev": "JANOSP",
                                    "FoglalasokSzama": "4"
                                },
                                {
                                    "nev": "Gergely József",
                                    "email": "jozsef@gmail.com",
                                    "usernev": "jozsef",
                                    "FoglalasokSzama": "3"
                                },
                                {
                                    "nev": "Vajda József",
                                    "email": "józsef.vajda@mail.hu",
                                    "usernev": "jozsef2",
                                    "FoglalasokSzama": "5"
                                },
                                {
                                    "nev": "Gyuris József",
                                    "email": "józsef.gyuris@mail.hu",
                                    "usernev": "JOZSEFG",
                                    "FoglalasokSzama": "7"
                                },
                                {
                                    "nev": "Hídasi Judit",
                                    "email": "JUDITH@gmail.com",
                                    "usernev": "JUDITH",
                                    "FoglalasokSzama": "3"
                                },
                                {
                                    "nev": "Tóth Júlia",
                                    "email": "julia@gmail.com",
                                    "usernev": "julia",
                                    "FoglalasokSzama": "5"
                                },
                                {
                                    "nev": "Nagy Júlia",
                                    "email": "julia4@gmail.com",
                                    "usernev": "julia4",
                                    "FoglalasokSzama": "2"
                                },
                                {
                                    "nev": "Szabó Julianna",
                                    "email": "julianna4@gmail.com",
                                    "usernev": "julianna4",
                                    "FoglalasokSzama": "4"
                                },
                                {
                                    "nev": "Gondos Katalin",
                                    "email": "katalin.gondos@mail.hu",
                                    "usernev": "kata",
                                    "FoglalasokSzama": "10"
                                },
                                {
                                    "nev": "Horváth Katalin",
                                    "email": "katalin.horváth@mail.hu",
                                    "usernev": "katalin",
                                    "FoglalasokSzama": "9"
                                },
                                {
                                    "nev": "Kertész Katalin",
                                    "email": "katalin4@gmail.com",
                                    "usernev": "katalin4",
                                    "FoglalasokSzama": "6"
                                },
                                {
                                    "nev": "Zatykó Katalin",
                                    "email": "katalin.zatykó@mail.hu",
                                    "usernev": "kati",
                                    "FoglalasokSzama": "7"
                                },
                                {
                                    "nev": "Kovács Katalin",
                                    "email": "katalin.kovács@mail.hu",
                                    "usernev": "katka",
                                    "FoglalasokSzama": "9"
                                },
                                {
                                    "nev": "Bakó Klaudia",
                                    "email": "klaudia.bakó@mail.hu",
                                    "usernev": "klaudia2",
                                    "FoglalasokSzama": "3"
                                },
                                {
                                    "nev": "Lukács Kornél",
                                    "email": "kornél.lukács@mail.hu",
                                    "usernev": "kornel4",
                                    "FoglalasokSzama": "3"
                                },
                                {
                                    "nev": "Poprádi Kristóf",
                                    "email": "kristof4@gmail.com",
                                    "usernev": "kristof4",
                                    "FoglalasokSzama": "2"
                                },
                                {
                                    "nev": "Horváth Krisztina",
                                    "email": "kriszti@gmail.com",
                                    "usernev": "kriszti",
                                    "FoglalasokSzama": "6"
                                },
                                {
                                    "nev": "Czérna Krisztián",
                                    "email": "krisztián.czérna@mail.hu",
                                    "usernev": "krisztian4",
                                    "FoglalasokSzama": "12"
                                },
                                {
                                    "nev": "Mogyródi Krisztián",
                                    "email": "KRISZTIANM@gmail.com",
                                    "usernev": "KRISZTIANM",
                                    "FoglalasokSzama": "6"
                                },
                                {
                                    "nev": "Szedlár Krisztina",
                                    "email": "krisztina@gmail.com",
                                    "usernev": "krisztina",
                                    "FoglalasokSzama": "8"
                                },
                                {
                                    "nev": "Bori Krisztina",
                                    "email": "krisztina.bori@mail.hu",
                                    "usernev": "krisztina1",
                                    "FoglalasokSzama": "6"
                                },
                                {
                                    "nev": "Gyárfás Krisztina",
                                    "email": "KRISZTINAG@gmail.com",
                                    "usernev": "KRISZTINAG",
                                    "FoglalasokSzama": "5"
                                },
                                {
                                    "nev": "Kiss Lajos",
                                    "email": "lajos.kiss@mail.hu",
                                    "usernev": "lajos",
                                    "FoglalasokSzama": "3"
                                },
                                {
                                    "nev": "Nagymihály Lajos",
                                    "email": "lajos.nagymihály@mail.hu",
                                    "usernev": "lala",
                                    "FoglalasokSzama": "6"
                                },
                                {
                                    "nev": "Móra László",
                                    "email": "lászló.móra@mail.hu",
                                    "usernev": "laszlo2",
                                    "FoglalasokSzama": "5"
                                },
                                {
                                    "nev": "Antal László",
                                    "email": "lászló.antal@mail.hu",
                                    "usernev": "LASZLOA",
                                    "FoglalasokSzama": "4"
                                },
                                {
                                    "nev": "Nagy László",
                                    "email": "lászló.nagy@mail.hu",
                                    "usernev": "LASZLON",
                                    "FoglalasokSzama": "6"
                                },
                                {
                                    "nev": "Baráth Mária",
                                    "email": "mária.baráth@mail.hu",
                                    "usernev": "maria1",
                                    "FoglalasokSzama": "8"
                                },
                                {
                                    "nev": "Kispál Márk",
                                    "email": "márk.kispál@mail.hu",
                                    "usernev": "mark",
                                    "FoglalasokSzama": "5"
                                },
                                {
                                    "nev": "Horváth Márk",
                                    "email": "márk.horváth@mail.hu",
                                    "usernev": "MARKH",
                                    "FoglalasokSzama": "4"
                                },
                                {
                                    "nev": "Kalacsi Márton",
                                    "email": "marton@gmail.com",
                                    "usernev": "marton",
                                    "FoglalasokSzama": "7"
                                },
                                {
                                    "nev": "Koza Máté",
                                    "email": "máté.koza@mail.hu",
                                    "usernev": "MATEK",
                                    "FoglalasokSzama": "3"
                                },
                                {
                                    "nev": "Botka Mátyás",
                                    "email": "matyas2@gmail.com",
                                    "usernev": "matyas2",
                                    "FoglalasokSzama": "2"
                                },
                                {
                                    "nev": "Szilágyi Mátyás",
                                    "email": "mátyás.szilágyi@mail.hu",
                                    "usernev": "MATYASS",
                                    "FoglalasokSzama": "8"
                                },
                                {
                                    "nev": "Juhász Mihály",
                                    "email": "mihály.juhász@mail.hu",
                                    "usernev": "MIHALYJ",
                                    "FoglalasokSzama": "5"
                                },
                                {
                                    "nev": "Gondos Miklós",
                                    "email": "miklos2@gmail.com",
                                    "usernev": "miklos2",
                                    "FoglalasokSzama": "3"
                                },
                                {
                                    "nev": "Balla Miklós",
                                    "email": "miklós.balla@mail.hu",
                                    "usernev": "MIKLOSB",
                                    "FoglalasokSzama": "3"
                                },
                                {
                                    "nev": "Mohos Mónika",
                                    "email": "mónika.mohos@mail.hu",
                                    "usernev": "MONIKAM",
                                    "FoglalasokSzama": "6"
                                },
                                {
                                    "nev": "Fő Nándor",
                                    "email": "nándor.fő@mail.hu",
                                    "usernev": "NANDORF",
                                    "FoglalasokSzama": "3"
                                },
                                {
                                    "nev": "Horváth Nikolett",
                                    "email": "nikolett3@gmail.com",
                                    "usernev": "nikolett3",
                                    "FoglalasokSzama": "4"
                                },
                                {
                                    "nev": "Kő Nikoletta",
                                    "email": "nikoletta4@gmail.com",
                                    "usernev": "nikoletta4",
                                    "FoglalasokSzama": "7"
                                },
                                {
                                    "nev": "Tatár Nikoletta",
                                    "email": "nikoletta.tatár@mail.hu",
                                    "usernev": "NIKOLETTAT",
                                    "FoglalasokSzama": "4"
                                },
                                {
                                    "nev": "Szűcs Norbert",
                                    "email": "norbert@gmail.com",
                                    "usernev": "norbert",
                                    "FoglalasokSzama": "5"
                                },
                                {
                                    "nev": "Hegedűs Norbert",
                                    "email": "norbert.hegedűs@mail.hu",
                                    "usernev": "norbert2",
                                    "FoglalasokSzama": "7"
                                },
                                {
                                    "nev": "Mile Norbert",
                                    "email": "norbert4@gmail.com",
                                    "usernev": "norbert4",
                                    "FoglalasokSzama": "9"
                                },
                                {
                                    "nev": "Béres Norbert",
                                    "email": "norbert5@gmail.com",
                                    "usernev": "norbert5",
                                    "FoglalasokSzama": "3"
                                },
                                {
                                    "nev": "Barabás Pál",
                                    "email": "pál.barabás@mail.hu",
                                    "usernev": "pal",
                                    "FoglalasokSzama": "5"
                                },
                                {
                                    "nev": "Kozma Péter",
                                    "email": "peter1@gmail.com",
                                    "usernev": "peter1",
                                    "FoglalasokSzama": "4"
                                },
                                {
                                    "nev": "Bozsó Péter",
                                    "email": "peter2@gmail.com",
                                    "usernev": "peter2",
                                    "FoglalasokSzama": "4"
                                },
                                {
                                    "nev": "Szalai Péter",
                                    "email": "peter3@gmail.com",
                                    "usernev": "peter3",
                                    "FoglalasokSzama": "6"
                                },
                                {
                                    "nev": "Bíró Péter",
                                    "email": "péter.bíró@mail.hu",
                                    "usernev": "peter4",
                                    "FoglalasokSzama": "12"
                                },
                                {
                                    "nev": "Berendi Péter",
                                    "email": "péter.berendi@mail.hu",
                                    "usernev": "PETERB",
                                    "FoglalasokSzama": "5"
                                },
                                {
                                    "nev": "Palágyi Polla",
                                    "email": "polla@gmail.com",
                                    "usernev": "polla",
                                    "FoglalasokSzama": "6"
                                },
                                {
                                    "nev": "Rácz Rajmond",
                                    "email": "rajmond.rácz@mail.hu",
                                    "usernev": "rajmond4",
                                    "FoglalasokSzama": "4"
                                },
                                {
                                    "nev": "Szikszai Réka",
                                    "email": "réka.szikszai@mail.hu",
                                    "usernev": "reka4",
                                    "FoglalasokSzama": "5"
                                },
                                {
                                    "nev": "Kardos Renáta",
                                    "email": "renáta.kardos@mail.hu",
                                    "usernev": "RENATAK",
                                    "FoglalasokSzama": "6"
                                },
                                {
                                    "nev": "Szirmai Renáta",
                                    "email": "RENATAS@gmail.com",
                                    "usernev": "RENATAS",
                                    "FoglalasokSzama": "5"
                                },
                                {
                                    "nev": "Patay Róbert",
                                    "email": "robert2@gmail.com",
                                    "usernev": "robert2",
                                    "FoglalasokSzama": "4"
                                },
                                {
                                    "nev": "Iván Róbert",
                                    "email": "róbert.iván@mail.hu",
                                    "usernev": "ROBERTI",
                                    "FoglalasokSzama": "8"
                                },
                                {
                                    "nev": "Pásztor Róbert",
                                    "email": "ROBERTP@gmail.com",
                                    "usernev": "ROBERTP",
                                    "FoglalasokSzama": "2"
                                },
                                {
                                    "nev": "Tóth Roland",
                                    "email": "roland@gmail.com",
                                    "usernev": "roland",
                                    "FoglalasokSzama": "4"
                                },
                                {
                                    "nev": "Ferencz Roland",
                                    "email": "roland.ferencz@mail.hu",
                                    "usernev": "roland1",
                                    "FoglalasokSzama": "4"
                                },
                                {
                                    "nev": "Bucskó Róza",
                                    "email": "roza2@gmail.com",
                                    "usernev": "roza2",
                                    "FoglalasokSzama": "3"
                                },
                                {
                                    "nev": "Karasz Sándor",
                                    "email": "sandor@gmail.com",
                                    "usernev": "sandor",
                                    "FoglalasokSzama": "4"
                                },
                                {
                                    "nev": "Farkas Sándor",
                                    "email": "sándor.farkas@mail.hu",
                                    "usernev": "sandor3",
                                    "FoglalasokSzama": "5"
                                },
                                {
                                    "nev": "Nagy Sándor",
                                    "email": "sandor4@gmail.com",
                                    "usernev": "sandor4",
                                    "FoglalasokSzama": "4"
                                },
                                {
                                    "nev": "Farkas Sára",
                                    "email": "sára.farkas@mail.hu",
                                    "usernev": "sara",
                                    "FoglalasokSzama": "12"
                                },
                                {
                                    "nev": "Foltényi Sebastián",
                                    "email": "SEBASTIANF@gmail.com",
                                    "usernev": "SEBASTIANF",
                                    "FoglalasokSzama": "5"
                                },
                                {
                                    "nev": "Rab Sebestyén",
                                    "email": "sebestyen@gmail.com",
                                    "usernev": "sebestyen",
                                    "FoglalasokSzama": "4"
                                },
                                {
                                    "nev": "Miklós Szabolcs",
                                    "email": "szabolcs.miklós@mail.hu",
                                    "usernev": "SZABOLCSM",
                                    "FoglalasokSzama": "7"
                                },
                                {
                                    "nev": "Szalai Szilárd",
                                    "email": "szilárd.szalai@mail.hu",
                                    "usernev": "SZILARDS",
                                    "FoglalasokSzama": "7"
                                },
                                {
                                    "nev": "Tari Szilvia",
                                    "email": "szilvia.tari@mail.hu",
                                    "usernev": "szilvia1",
                                    "FoglalasokSzama": "9"
                                },
                                {
                                    "nev": "Miklós Tamara",
                                    "email": "tamara.miklós@mail.hu",
                                    "usernev": "tamara2",
                                    "FoglalasokSzama": "2"
                                },
                                {
                                    "nev": "Antal Tamás",
                                    "email": "tamás.antal@mail.hu",
                                    "usernev": "tamas",
                                    "FoglalasokSzama": "4"
                                },
                                {
                                    "nev": "Fényes Tamás",
                                    "email": "TAMASF@gmail.com",
                                    "usernev": "TAMASF",
                                    "FoglalasokSzama": "9"
                                },
                                {
                                    "nev": "Gombos Tibor",
                                    "email": "tibor.gombos@mail.hu",
                                    "usernev": "tibor",
                                    "FoglalasokSzama": "2"
                                },
                                {
                                    "nev": "Kazy Tihamér",
                                    "email": "tihamér.kazy@mail.hu",
                                    "usernev": "tihamer",
                                    "FoglalasokSzama": "6"
                                },
                                {
                                    "nev": "Dusha Tímea",
                                    "email": "tímea.dusha@mail.hu",
                                    "usernev": "timea2",
                                    "FoglalasokSzama": "5"
                                },
                                {
                                    "nev": "Turcsik Tünde",
                                    "email": "tunde@gmail.com",
                                    "usernev": "tunde",
                                    "FoglalasokSzama": "8"
                                },
                                {
                                    "nev": "Feró Valentin",
                                    "email": "valentin.feró@mail.hu",
                                    "usernev": "valentin",
                                    "FoglalasokSzama": "5"
                                },
                                {
                                    "nev": "Tankó Veronika",
                                    "email": "veronika4@gmail.com",
                                    "usernev": "veronika4",
                                    "FoglalasokSzama": "6"
                                },
                                {
                                    "nev": "Urbán Viktoria",
                                    "email": "viktoria.urbán@mail.hu",
                                    "usernev": "VIKTORIAU",
                                    "FoglalasokSzama": "4"
                                },
                                {
                                    "nev": "Keresztúri Viktor",
                                    "email": "viktor.keresztúri@mail.hu",
                                    "usernev": "VIKTORK",
                                    "FoglalasokSzama": "2"
                                },
                                {
                                    "nev": "Boros Vivien",
                                    "email": "vivien3@gmail.com",
                                    "usernev": "vivien3",
                                    "FoglalasokSzama": "7"
                                },
                                {
                                    "nev": "Fodor Zoltán",
                                    "email": "zoltán.fodor@mail.hu",
                                    "usernev": "zoltan",
                                    "FoglalasokSzama": "2"
                                },
                                {
                                    "nev": "Barna Zoltán",
                                    "email": "zoltan4@gmail.com",
                                    "usernev": "zoltan4",
                                    "FoglalasokSzama": "12"
                                },
                                {
                                    "nev": "Pintér Zoltán",
                                    "email": "zoltán.pintér@mail.hu",
                                    "usernev": "ZOLTANP",
                                    "FoglalasokSzama": "6"
                                },
                                {
                                    "nev": "Tóth Zoltán",
                                    "email": "zoltán.tóth@mail.hu",
                                    "usernev": "ZOLTANT",
                                    "FoglalasokSzama": "3"
                                },
                                {
                                    "nev": "Molnár Zsófi",
                                    "email": "zsofi1@gmail.com",
                                    "usernev": "zsofi1",
                                    "FoglalasokSzama": "2"
                                },
                                {
                                    "nev": "Pulai Zsolt",
                                    "email": "zsolt.pulai@mail.hu",
                                    "usernev": "zsolt1",
                                    "FoglalasokSzama": "4"
                                },
                                {
                                    "nev": "Józsa Zsolt",
                                    "email": "ZSOLTJ@gmail.com",
                                    "usernev": "ZSOLTJ",
                                    "FoglalasokSzama": "6"
                                },
                                {
                                    "nev": "Pusztai Zsuzsanna",
                                    "email": "zsuzsanna@gmail.com",
                                    "usernev": "zsuzsa",
                                    "FoglalasokSzama": "3"
                                },
                                {
                                    "nev": "Varsányi Zsuzsa",
                                    "email": "zsuzsa.varsányi@mail.hu",
                                    "usernev": "zsuzsa3",
                                    "FoglalasokSzama": "4"
                                },
                                {
                                    "nev": "Barta Zsuzsanna",
                                    "email": "zsuzsanna.barta@mail.hu",
                                    "usernev": "zsuzsanna",
                                    "FoglalasokSzama": "4"
                                },
                                {
                                    "nev": "Vajda Zsuzsa",
                                    "email": "zsuzsa.vajda@mail.hu",
                                    "usernev": "ZSUZSAV",
                                    "FoglalasokSzama": "6"
                                }
                            ]
                        },
                        "text/html": [
                            "<table>",
                            "<tr><th>nev</th><th>email</th><th>usernev</th><th>FoglalasokSzama</th></tr>",
                            "<tr><td>Kiss Ádám</td><td>ádám.kiss@mail.hu</td><td>adam1</td><td>3</td></tr>",
                            "<tr><td>Barkóci Ádám</td><td>adam3@gmail.com</td><td>adam3</td><td>2</td></tr>",
                            "<tr><td>Bieniek Ádám</td><td>ádám.bieniek@mail.hu</td><td>adam4</td><td>6</td></tr>",
                            "<tr><td>Lengyel Ágnes</td><td>agnes@gmail.com</td><td>agnes</td><td>5</td></tr>",
                            "<tr><td>Hartyánszky Ágnes</td><td>agnes3@gmail.com</td><td>agnes3</td><td>3</td></tr>",
                            "<tr><td>Horváth Ágnes</td><td>AGNESH@gmail.com</td><td>AGNESH</td><td>6</td></tr>",
                            "<tr><td>Kovács Ágnes</td><td>AGNESK@gmail.com</td><td>AGNESK</td><td>3</td></tr>",
                            "<tr><td>Bíró Ákos</td><td>ákos.bíró@mail.hu</td><td>akos</td><td>10</td></tr>",
                            "<tr><td>Dunai Aladár</td><td>aladár.dunai@mail.hu</td><td>aladar</td><td>3</td></tr>",
                            "<tr><td>Bagóczki Alexandra</td><td>alexandra.bagóczki@mail.hu</td><td>alexandra</td><td>7</td></tr>",
                            "<tr><td>Maródi Andrea</td><td>andrea.maródi@mail.hu</td><td>andi</td><td>5</td></tr>",
                            "<tr><td>Tóth András</td><td>andrás.tóth@mail.hu</td><td>andras2</td><td>5</td></tr>",
                            "<tr><td>Molnár András</td><td>andrás.molnár@mail.hu</td><td>andras21</td><td>7</td></tr>",
                            "<tr><td>Vígh András</td><td>andrás.vígh@mail.hu</td><td>andras3</td><td>8</td></tr>",
                            "<tr><td>Back András</td><td>andras4@gmail.com</td><td>andras4</td><td>3</td></tr>",
                            "<tr><td>Komjáti András</td><td>andras41@gmail.com</td><td>andras41</td><td>13</td></tr>",
                            "<tr><td>Erdei András</td><td>ANDRASE@gmail.com</td><td>ANDRASE</td><td>5</td></tr>",
                            "<tr><td>Kiss Andrea</td><td>andrea.kiss@mail.hu</td><td>andrea</td><td>6</td></tr>",
                            "<tr><td>Neizer Andrea</td><td>andrea4@gmail.com</td><td>andrea4</td><td>4</td></tr>",
                            "<tr><td>Tornyos Andrea</td><td>ANDREAT@gmail.com</td><td>ANDREAT</td><td>3</td></tr>",
                            "<tr><td>Pivarcsi Anett</td><td>anett.pivarcsi@mail.hu</td><td>anett3</td><td>8</td></tr>",
                            "<tr><td>Tóth Anikó</td><td>aniko@gmail.com</td><td>aniko</td><td>3</td></tr>",
                            "<tr><td>Böröcz Anikó</td><td>aniko4@gmail.com</td><td>aniko4</td><td>4</td></tr>",
                            "<tr><td>Simon Anikó</td><td>ANIKOS@gmail.com</td><td>ANIKOS</td><td>9</td></tr>",
                            "<tr><td>Hamvay-Kovács Anita</td><td>anita.hamvay-kovács@mail.hu</td><td>anita</td><td>4</td></tr>",
                            "<tr><td>Szűcs Annamária</td><td>annamária.szűcs@mail.hu</td><td>annamaria1</td><td>2</td></tr>",
                            "<tr><td>Regős Annamária</td><td>ANNAMARIAR@gmail.com</td><td>ANNAMARIAR</td><td>6</td></tr>",
                            "<tr><td>Jakab Áron</td><td>aron2@gmail.com</td><td>aron2</td><td>6</td></tr>",
                            "<tr><td>Kelemen Áron</td><td>áron.kelemen@mail.hu</td><td>ARONK</td><td>13</td></tr>",
                            "<tr><td>Ötvös Árpád</td><td>árpád.ötvös@mail.hu</td><td>arpad2</td><td>7</td></tr>",
                            "<tr><td>Horváth Árpád</td><td>árpád.horváth@mail.hu</td><td>ARPADH</td><td>7</td></tr>",
                            "<tr><td>Móricz Árpád</td><td>árpád.móricz@mail.hu</td><td>ARPADM</td><td>6</td></tr>",
                            "<tr><td>Csóti Attila</td><td>attila@gmail.com</td><td>attila</td><td>3</td></tr>",
                            "<tr><td>Gulyás Attila</td><td>attila.gulyás@mail.hu</td><td>attila1</td><td>6</td></tr>",
                            "<tr><td>Baróti Attila</td><td>attila.baróti@mail.hu</td><td>attila4</td><td>3</td></tr>",
                            "<tr><td>Opra Attila</td><td>ATTILAO@gmail.com</td><td>ATTILAO</td><td>4</td></tr>",
                            "<tr><td>Bozsik Balázs</td><td>balázs.bozsik@mail.hu</td><td>balazs1</td><td>6</td></tr>",
                            "<tr><td>Szűcs Balázs</td><td>balázs.szűcs@mail.hu</td><td>balazs2</td><td>10</td></tr>",
                            "<tr><td>Bakódy Balázs</td><td>balazs3@gmail.com</td><td>balazs3</td><td>6</td></tr>",
                            "<tr><td>Horváth Bálint</td><td>balint@gmail.com</td><td>balint</td><td>3</td></tr>",
                            "<tr><td>Molnár Bálint</td><td>balint1@gmail.com</td><td>balint1</td><td>10</td></tr>",
                            "<tr><td>Vukasinovity Bálint</td><td>balint2@gmail.com</td><td>balint2</td><td>2</td></tr>",
                            "<tr><td>Endresz Bálint</td><td>bálint.endresz@mail.hu</td><td>balu</td><td>2</td></tr>",
                            "<tr><td>Bagi Beáta</td><td>beáta.bagi@mail.hu</td><td>beata4</td><td>6</td></tr>",
                            "<tr><td>Kerényi Beatrix</td><td>beatrix.kerényi@mail.hu</td><td>BEATRIXK</td><td>9</td></tr>",
                            "<tr><td>Szekendi Beatrix</td><td>beatrix.szekendi@mail.hu</td><td>BEATRIXS</td><td>6</td></tr>",
                            "<tr><td>Farkas Béla</td><td>BELAF@gmail.com</td><td>BELAF</td><td>6</td></tr>",
                            "<tr><td>Győrffy Bence</td><td>bence@gmail.com</td><td>bence</td><td>9</td></tr>",
                            "<tr><td>Bajusz Bence</td><td>bence.bajusz@mail.hu</td><td>BENCEB</td><td>6</td></tr>",
                            "<tr><td>Simon Bernadett</td><td>bernadett1@gmail.com</td><td>bernadett1</td><td>7</td></tr>",
                            "<tr><td>Kovács Bernadett</td><td>bernadett.kovács@mail.hu</td><td>bernadett2</td><td>8</td></tr>",
                            "<tr><td>Orbán Bernadett</td><td>bernadett.orbán@mail.hu</td><td>BERNADETTO</td><td>7</td></tr>",
                            "<tr><td>Csiger Bertalan</td><td>bertalan@gmail.com</td><td>bertalan</td><td>6</td></tr>",
                            "<tr><td>Székely Brigitta</td><td>brigitta.székely@mail.hu</td><td>brigitta</td><td>5</td></tr>",
                            "<tr><td>Pataki Brigitta</td><td>brigitta.pataki@mail.hu</td><td>brigitta3</td><td>5</td></tr>",
                            "<tr><td>Nagymihály Csongor</td><td>csongor.nagymihály@mail.hu</td><td>csongor3</td><td>8</td></tr>",
                            "<tr><td>Vörös Dániel</td><td>daniel@gmail.com</td><td>dani</td><td>9</td></tr>",
                            "<tr><td>Rácz Dániel</td><td>dániel.rácz@mail.hu</td><td>daniel</td><td>9</td></tr>",
                            "<tr><td>Keszler Dániel</td><td>dániel.keszler@mail.hu</td><td>daniel1</td><td>7</td></tr>",
                            "<tr><td>Ambrus Dávid</td><td>david@gmail.com</td><td>david</td><td>9</td></tr>",
                            "<tr><td>Sobják Dávid</td><td>david1@gmail.com</td><td>david1</td><td>6</td></tr>",
                            "<tr><td>Barna Debóra</td><td>debóra.barna@mail.hu</td><td>debora</td><td>4</td></tr>",
                            "<tr><td>Tömböly Dénes</td><td>denes@gmail.com</td><td>denes</td><td>6</td></tr>",
                            "<tr><td>Sarodi Dóra</td><td>dóra.sarodi@mail.hu</td><td>dora3</td><td>5</td></tr>",
                            "<tr><td>Bittmann Edit</td><td>edit.bittmann@mail.hu</td><td>edit</td><td>7</td></tr>",
                            "<tr><td>Kuruc Emese</td><td>emese.kuruc@mail.hu</td><td>emese</td><td>7</td></tr>",
                            "<tr><td>Molnár Eszter</td><td>eszter.molnár@mail.hu</td><td>eszter</td><td>4</td></tr>",
                            "<tr><td>Balogh Eszter</td><td>eszter.balogh@mail.hu</td><td>eszter2</td><td>10</td></tr>",
                            "<tr><td>Fülöp Eszter</td><td>eszter.fülöp@mail.hu</td><td>eszter4</td><td>3</td></tr>",
                            "<tr><td>Érsek Eszter</td><td>eszter.érsek@mail.hu</td><td>ESZTERE</td><td>4</td></tr>",
                            "<tr><td>Enyedi Éva</td><td>eva@gmail.com</td><td>eva</td><td>2</td></tr>",
                            "<tr><td>Perlinger Éva</td><td>eva2@gmail.com</td><td>eva2</td><td>4</td></tr>",
                            "<tr><td>Viktor Éva</td><td>EVAV@gmail.com</td><td>EVAV</td><td>5</td></tr>",
                            "<tr><td>Orosz Ferenc</td><td>ferenc.orosz@mail.hu</td><td>ferenc1</td><td>4</td></tr>",
                            "<tr><td>Frank Fruzsina</td><td>fruzsina4@gmail.com</td><td>fruzsina4</td><td>8</td></tr>",
                            "<tr><td>Köves Gábor</td><td>gabor1@gmail.com</td><td>gabor1</td><td>6</td></tr>",
                            "<tr><td>Telek Gábor</td><td>gábor.telek@mail.hu</td><td>gabor4</td><td>4</td></tr>",
                            "<tr><td>Nagy Gabriella</td><td>gabriella1@gmail.com</td><td>gabriella1</td><td>6</td></tr>",
                            "<tr><td>Nyíri Georgij</td><td>georgij.nyíri@mail.hu</td><td>georgij</td><td>4</td></tr>",
                            "<tr><td>Bárci Gusztáv</td><td>gusztav@gmail.com</td><td>gusztav</td><td>5</td></tr>",
                            "<tr><td>Kornseé Gyöngyi</td><td>gyöngyi.kornseé@mail.hu</td><td>GYONGYIK</td><td>7</td></tr>",
                            "<tr><td>Oroszi György</td><td>GYORGYO@gmail.com</td><td>GYORGYO</td><td>8</td></tr>",
                            "<tr><td>Nádudvari Henrik</td><td>henrik.nádudvari@mail.hu</td><td>henrik3</td><td>3</td></tr>",
                            "<tr><td>Andor Ibolya</td><td>ibolya.andor@mail.hu</td><td>IBOLYAA</td><td>3</td></tr>",
                            "<tr><td>Bosnyák Ilona</td><td>ilona3@gmail.com</td><td>ilona3</td><td>4</td></tr>",
                            "<tr><td>Búza Imre</td><td>imre.búza@mail.hu</td><td>imre</td><td>2</td></tr>",
                            "<tr><td>Papp Imre</td><td>imre.papp@mail.hu</td><td>imre1</td><td>7</td></tr>",
                            "<tr><td>Soós István</td><td>istvan@gmail.com</td><td>istvan</td><td>3</td></tr>",
                            "<tr><td>Vizi István</td><td>istván.vizi@mail.hu</td><td>istvan1</td><td>4</td></tr>",
                            "<tr><td>Varga István</td><td>ISTVANV@gmail.com</td><td>ISTVANV</td><td>2</td></tr>",
                            "<tr><td>Harangozó János</td><td>janos3@gmail.com</td><td>janos3</td><td>5</td></tr>",
                            "<tr><td>Giliga János</td><td>JANOSG@gmail.com</td><td>JANOSG</td><td>7</td></tr>",
                            "<tr><td>Pálinkás János</td><td>JANOSP@gmail.com</td><td>JANOSP</td><td>4</td></tr>",
                            "<tr><td>Gergely József</td><td>jozsef@gmail.com</td><td>jozsef</td><td>3</td></tr>",
                            "<tr><td>Vajda József</td><td>józsef.vajda@mail.hu</td><td>jozsef2</td><td>5</td></tr>",
                            "<tr><td>Gyuris József</td><td>józsef.gyuris@mail.hu</td><td>JOZSEFG</td><td>7</td></tr>",
                            "<tr><td>Hídasi Judit</td><td>JUDITH@gmail.com</td><td>JUDITH</td><td>3</td></tr>",
                            "<tr><td>Tóth Júlia</td><td>julia@gmail.com</td><td>julia</td><td>5</td></tr>",
                            "<tr><td>Nagy Júlia</td><td>julia4@gmail.com</td><td>julia4</td><td>2</td></tr>",
                            "<tr><td>Szabó Julianna</td><td>julianna4@gmail.com</td><td>julianna4</td><td>4</td></tr>",
                            "<tr><td>Gondos Katalin</td><td>katalin.gondos@mail.hu</td><td>kata</td><td>10</td></tr>",
                            "<tr><td>Horváth Katalin</td><td>katalin.horváth@mail.hu</td><td>katalin</td><td>9</td></tr>",
                            "<tr><td>Kertész Katalin</td><td>katalin4@gmail.com</td><td>katalin4</td><td>6</td></tr>",
                            "<tr><td>Zatykó Katalin</td><td>katalin.zatykó@mail.hu</td><td>kati</td><td>7</td></tr>",
                            "<tr><td>Kovács Katalin</td><td>katalin.kovács@mail.hu</td><td>katka</td><td>9</td></tr>",
                            "<tr><td>Bakó Klaudia</td><td>klaudia.bakó@mail.hu</td><td>klaudia2</td><td>3</td></tr>",
                            "<tr><td>Lukács Kornél</td><td>kornél.lukács@mail.hu</td><td>kornel4</td><td>3</td></tr>",
                            "<tr><td>Poprádi Kristóf</td><td>kristof4@gmail.com</td><td>kristof4</td><td>2</td></tr>",
                            "<tr><td>Horváth Krisztina</td><td>kriszti@gmail.com</td><td>kriszti</td><td>6</td></tr>",
                            "<tr><td>Czérna Krisztián</td><td>krisztián.czérna@mail.hu</td><td>krisztian4</td><td>12</td></tr>",
                            "<tr><td>Mogyródi Krisztián</td><td>KRISZTIANM@gmail.com</td><td>KRISZTIANM</td><td>6</td></tr>",
                            "<tr><td>Szedlár Krisztina</td><td>krisztina@gmail.com</td><td>krisztina</td><td>8</td></tr>",
                            "<tr><td>Bori Krisztina</td><td>krisztina.bori@mail.hu</td><td>krisztina1</td><td>6</td></tr>",
                            "<tr><td>Gyárfás Krisztina</td><td>KRISZTINAG@gmail.com</td><td>KRISZTINAG</td><td>5</td></tr>",
                            "<tr><td>Kiss Lajos</td><td>lajos.kiss@mail.hu</td><td>lajos</td><td>3</td></tr>",
                            "<tr><td>Nagymihály Lajos</td><td>lajos.nagymihály@mail.hu</td><td>lala</td><td>6</td></tr>",
                            "<tr><td>Móra László</td><td>lászló.móra@mail.hu</td><td>laszlo2</td><td>5</td></tr>",
                            "<tr><td>Antal László</td><td>lászló.antal@mail.hu</td><td>LASZLOA</td><td>4</td></tr>",
                            "<tr><td>Nagy László</td><td>lászló.nagy@mail.hu</td><td>LASZLON</td><td>6</td></tr>",
                            "<tr><td>Baráth Mária</td><td>mária.baráth@mail.hu</td><td>maria1</td><td>8</td></tr>",
                            "<tr><td>Kispál Márk</td><td>márk.kispál@mail.hu</td><td>mark</td><td>5</td></tr>",
                            "<tr><td>Horváth Márk</td><td>márk.horváth@mail.hu</td><td>MARKH</td><td>4</td></tr>",
                            "<tr><td>Kalacsi Márton</td><td>marton@gmail.com</td><td>marton</td><td>7</td></tr>",
                            "<tr><td>Koza Máté</td><td>máté.koza@mail.hu</td><td>MATEK</td><td>3</td></tr>",
                            "<tr><td>Botka Mátyás</td><td>matyas2@gmail.com</td><td>matyas2</td><td>2</td></tr>",
                            "<tr><td>Szilágyi Mátyás</td><td>mátyás.szilágyi@mail.hu</td><td>MATYASS</td><td>8</td></tr>",
                            "<tr><td>Juhász Mihály</td><td>mihály.juhász@mail.hu</td><td>MIHALYJ</td><td>5</td></tr>",
                            "<tr><td>Gondos Miklós</td><td>miklos2@gmail.com</td><td>miklos2</td><td>3</td></tr>",
                            "<tr><td>Balla Miklós</td><td>miklós.balla@mail.hu</td><td>MIKLOSB</td><td>3</td></tr>",
                            "<tr><td>Mohos Mónika</td><td>mónika.mohos@mail.hu</td><td>MONIKAM</td><td>6</td></tr>",
                            "<tr><td>Fő Nándor</td><td>nándor.fő@mail.hu</td><td>NANDORF</td><td>3</td></tr>",
                            "<tr><td>Horváth Nikolett</td><td>nikolett3@gmail.com</td><td>nikolett3</td><td>4</td></tr>",
                            "<tr><td>Kő Nikoletta</td><td>nikoletta4@gmail.com</td><td>nikoletta4</td><td>7</td></tr>",
                            "<tr><td>Tatár Nikoletta</td><td>nikoletta.tatár@mail.hu</td><td>NIKOLETTAT</td><td>4</td></tr>",
                            "<tr><td>Szűcs Norbert</td><td>norbert@gmail.com</td><td>norbert</td><td>5</td></tr>",
                            "<tr><td>Hegedűs Norbert</td><td>norbert.hegedűs@mail.hu</td><td>norbert2</td><td>7</td></tr>",
                            "<tr><td>Mile Norbert</td><td>norbert4@gmail.com</td><td>norbert4</td><td>9</td></tr>",
                            "<tr><td>Béres Norbert</td><td>norbert5@gmail.com</td><td>norbert5</td><td>3</td></tr>",
                            "<tr><td>Barabás Pál</td><td>pál.barabás@mail.hu</td><td>pal</td><td>5</td></tr>",
                            "<tr><td>Kozma Péter</td><td>peter1@gmail.com</td><td>peter1</td><td>4</td></tr>",
                            "<tr><td>Bozsó Péter</td><td>peter2@gmail.com</td><td>peter2</td><td>4</td></tr>",
                            "<tr><td>Szalai Péter</td><td>peter3@gmail.com</td><td>peter3</td><td>6</td></tr>",
                            "<tr><td>Bíró Péter</td><td>péter.bíró@mail.hu</td><td>peter4</td><td>12</td></tr>",
                            "<tr><td>Berendi Péter</td><td>péter.berendi@mail.hu</td><td>PETERB</td><td>5</td></tr>",
                            "<tr><td>Palágyi Polla</td><td>polla@gmail.com</td><td>polla</td><td>6</td></tr>",
                            "<tr><td>Rácz Rajmond</td><td>rajmond.rácz@mail.hu</td><td>rajmond4</td><td>4</td></tr>",
                            "<tr><td>Szikszai Réka</td><td>réka.szikszai@mail.hu</td><td>reka4</td><td>5</td></tr>",
                            "<tr><td>Kardos Renáta</td><td>renáta.kardos@mail.hu</td><td>RENATAK</td><td>6</td></tr>",
                            "<tr><td>Szirmai Renáta</td><td>RENATAS@gmail.com</td><td>RENATAS</td><td>5</td></tr>",
                            "<tr><td>Patay Róbert</td><td>robert2@gmail.com</td><td>robert2</td><td>4</td></tr>",
                            "<tr><td>Iván Róbert</td><td>róbert.iván@mail.hu</td><td>ROBERTI</td><td>8</td></tr>",
                            "<tr><td>Pásztor Róbert</td><td>ROBERTP@gmail.com</td><td>ROBERTP</td><td>2</td></tr>",
                            "<tr><td>Tóth Roland</td><td>roland@gmail.com</td><td>roland</td><td>4</td></tr>",
                            "<tr><td>Ferencz Roland</td><td>roland.ferencz@mail.hu</td><td>roland1</td><td>4</td></tr>",
                            "<tr><td>Bucskó Róza</td><td>roza2@gmail.com</td><td>roza2</td><td>3</td></tr>",
                            "<tr><td>Karasz Sándor</td><td>sandor@gmail.com</td><td>sandor</td><td>4</td></tr>",
                            "<tr><td>Farkas Sándor</td><td>sándor.farkas@mail.hu</td><td>sandor3</td><td>5</td></tr>",
                            "<tr><td>Nagy Sándor</td><td>sandor4@gmail.com</td><td>sandor4</td><td>4</td></tr>",
                            "<tr><td>Farkas Sára</td><td>sára.farkas@mail.hu</td><td>sara</td><td>12</td></tr>",
                            "<tr><td>Foltényi Sebastián</td><td>SEBASTIANF@gmail.com</td><td>SEBASTIANF</td><td>5</td></tr>",
                            "<tr><td>Rab Sebestyén</td><td>sebestyen@gmail.com</td><td>sebestyen</td><td>4</td></tr>",
                            "<tr><td>Miklós Szabolcs</td><td>szabolcs.miklós@mail.hu</td><td>SZABOLCSM</td><td>7</td></tr>",
                            "<tr><td>Szalai Szilárd</td><td>szilárd.szalai@mail.hu</td><td>SZILARDS</td><td>7</td></tr>",
                            "<tr><td>Tari Szilvia</td><td>szilvia.tari@mail.hu</td><td>szilvia1</td><td>9</td></tr>",
                            "<tr><td>Miklós Tamara</td><td>tamara.miklós@mail.hu</td><td>tamara2</td><td>2</td></tr>",
                            "<tr><td>Antal Tamás</td><td>tamás.antal@mail.hu</td><td>tamas</td><td>4</td></tr>",
                            "<tr><td>Fényes Tamás</td><td>TAMASF@gmail.com</td><td>TAMASF</td><td>9</td></tr>",
                            "<tr><td>Gombos Tibor</td><td>tibor.gombos@mail.hu</td><td>tibor</td><td>2</td></tr>",
                            "<tr><td>Kazy Tihamér</td><td>tihamér.kazy@mail.hu</td><td>tihamer</td><td>6</td></tr>",
                            "<tr><td>Dusha Tímea</td><td>tímea.dusha@mail.hu</td><td>timea2</td><td>5</td></tr>",
                            "<tr><td>Turcsik Tünde</td><td>tunde@gmail.com</td><td>tunde</td><td>8</td></tr>",
                            "<tr><td>Feró Valentin</td><td>valentin.feró@mail.hu</td><td>valentin</td><td>5</td></tr>",
                            "<tr><td>Tankó Veronika</td><td>veronika4@gmail.com</td><td>veronika4</td><td>6</td></tr>",
                            "<tr><td>Urbán Viktoria</td><td>viktoria.urbán@mail.hu</td><td>VIKTORIAU</td><td>4</td></tr>",
                            "<tr><td>Keresztúri Viktor</td><td>viktor.keresztúri@mail.hu</td><td>VIKTORK</td><td>2</td></tr>",
                            "<tr><td>Boros Vivien</td><td>vivien3@gmail.com</td><td>vivien3</td><td>7</td></tr>",
                            "<tr><td>Fodor Zoltán</td><td>zoltán.fodor@mail.hu</td><td>zoltan</td><td>2</td></tr>",
                            "<tr><td>Barna Zoltán</td><td>zoltan4@gmail.com</td><td>zoltan4</td><td>12</td></tr>",
                            "<tr><td>Pintér Zoltán</td><td>zoltán.pintér@mail.hu</td><td>ZOLTANP</td><td>6</td></tr>",
                            "<tr><td>Tóth Zoltán</td><td>zoltán.tóth@mail.hu</td><td>ZOLTANT</td><td>3</td></tr>",
                            "<tr><td>Molnár Zsófi</td><td>zsofi1@gmail.com</td><td>zsofi1</td><td>2</td></tr>",
                            "<tr><td>Pulai Zsolt</td><td>zsolt.pulai@mail.hu</td><td>zsolt1</td><td>4</td></tr>",
                            "<tr><td>Józsa Zsolt</td><td>ZSOLTJ@gmail.com</td><td>ZSOLTJ</td><td>6</td></tr>",
                            "<tr><td>Pusztai Zsuzsanna</td><td>zsuzsanna@gmail.com</td><td>zsuzsa</td><td>3</td></tr>",
                            "<tr><td>Varsányi Zsuzsa</td><td>zsuzsa.varsányi@mail.hu</td><td>zsuzsa3</td><td>4</td></tr>",
                            "<tr><td>Barta Zsuzsanna</td><td>zsuzsanna.barta@mail.hu</td><td>zsuzsanna</td><td>4</td></tr>",
                            "<tr><td>Vajda Zsuzsa</td><td>zsuzsa.vajda@mail.hu</td><td>ZSUZSAV</td><td>6</td></tr>",
                            "</table>"
                        ]
                    }
                }
            ],
            "execution_count": 11
        },
        {
            "cell_type": "markdown",
            "source": [
                "<span style=\"color: var(--vscode-foreground);\">Listázzuk azon vendégek adatait, akik a legtöbb férőhelyes szobát (vagy szobákat) már lefoglalták!</span>  \n",
                "\n",
                "- Csak klímás szoba jöhet számításba"
            ],
            "metadata": {
                "azdata_cell_guid": "946cbddf-5234-4d3b-b199-38ba8968a634"
            },
            "attachments": {}
        },
        {
            "cell_type": "code",
            "source": [
                "SELECT v.*\r\n",
                "FROM Vendeg v JOIN Foglalas f ON v.USERNEV = f.UGYFEL_FK\r\n",
                "                JOIN Szoba sz ON f.SZOBA_FK = sz.SZOBA_ID\r\n",
                "WHERE sz.FEROHELY = (\r\n",
                "                        SELECT MAX(FEROHELY)\r\n",
                "                        FROM Szoba\r\n",
                "                    )\r\n",
                "                    AND sz.KLIMAS LIKE 'i'"
            ],
            "metadata": {
                "azdata_cell_guid": "283491e8-1eed-4a96-9fce-81663ebc4f61",
                "language": "sql"
            },
            "outputs": [
                {
                    "output_type": "display_data",
                    "data": {
                        "text/html": "(3 rows affected)"
                    },
                    "metadata": {}
                },
                {
                    "output_type": "display_data",
                    "data": {
                        "text/html": "Total execution time: 00:00:00.025"
                    },
                    "metadata": {}
                },
                {
                    "output_type": "execute_result",
                    "metadata": {},
                    "execution_count": 16,
                    "data": {
                        "application/vnd.dataresource+json": {
                            "schema": {
                                "fields": [
                                    {
                                        "name": "USERNEV"
                                    },
                                    {
                                        "name": "NEV"
                                    },
                                    {
                                        "name": "EMAIL"
                                    },
                                    {
                                        "name": "SZAML_CIM"
                                    },
                                    {
                                        "name": "SZUL_DAT"
                                    }
                                ]
                            },
                            "data": [
                                {
                                    "USERNEV": "JOZSEFG",
                                    "NEV": "Gyuris József",
                                    "EMAIL": "józsef.gyuris@mail.hu",
                                    "SZAML_CIM": "2660 Balassagyarmat Petőfi utca 1/2.",
                                    "SZUL_DAT": "1975-05-26"
                                },
                                {
                                    "USERNEV": "PETERB",
                                    "NEV": "Berendi Péter",
                                    "EMAIL": "péter.berendi@mail.hu",
                                    "SZAML_CIM": "3980 Sátoraljaújhely Vasút utca 4/10.",
                                    "SZUL_DAT": "1969-01-01"
                                },
                                {
                                    "USERNEV": "tunde",
                                    "NEV": "Turcsik Tünde",
                                    "EMAIL": "tunde@gmail.com",
                                    "SZAML_CIM": "7130 Tolna Fő út 122.",
                                    "SZUL_DAT": "1974-02-12"
                                }
                            ]
                        },
                        "text/html": [
                            "<table>",
                            "<tr><th>USERNEV</th><th>NEV</th><th>EMAIL</th><th>SZAML_CIM</th><th>SZUL_DAT</th></tr>",
                            "<tr><td>JOZSEFG</td><td>Gyuris József</td><td>józsef.gyuris@mail.hu</td><td>2660 Balassagyarmat Petőfi utca 1/2.</td><td>1975-05-26</td></tr>",
                            "<tr><td>PETERB</td><td>Berendi Péter</td><td>péter.berendi@mail.hu</td><td>3980 Sátoraljaújhely Vasút utca 4/10.</td><td>1969-01-01</td></tr>",
                            "<tr><td>tunde</td><td>Turcsik Tünde</td><td>tunde@gmail.com</td><td>7130 Tolna Fő út 122.</td><td>1974-02-12</td></tr>",
                            "</table>"
                        ]
                    }
                }
            ],
            "execution_count": 16
        },
        {
            "cell_type": "markdown",
            "source": [
                "Készítsen lekérdezést, amely sorszámozza a vendégeket a foglalások száma alapján\n",
                "\n",
                "- A sorszám mellett jelenjen meg a vendég azonosítója, neve és a foglalások száma is\n",
                "- A legtöbbet foglaló vendég kapja az egyes sorszámot\n",
                "- Holtverseny esetén a számozás annyit ugorjon, ahány egyforma érték van"
            ],
            "metadata": {
                "azdata_cell_guid": "44cf3a3b-6d3e-4380-8f75-dc763d16e67f"
            },
            "attachments": {}
        },
        {
            "cell_type": "code",
            "source": [
                "SELECT DENSE_RANK() OVER(ORDER BY COUNT(*)) as 'sorszám', v.USERNEV, v.NEV, COUNT(*) AS 'db'\r\n",
                "FROM Vendeg v JOIN Foglalas f ON v.USERNEV = f.UGYFEL_FK\r\n",
                "GROUP BY v.USERNEV, v.NEV"
            ],
            "metadata": {
                "azdata_cell_guid": "14cedf31-17f8-43ee-941e-e15a8bae1a0a",
                "language": "sql",
                "tags": []
            },
            "outputs": [
                {
                    "output_type": "display_data",
                    "data": {
                        "text/html": "(195 rows affected)"
                    },
                    "metadata": {}
                },
                {
                    "output_type": "display_data",
                    "data": {
                        "text/html": "Total execution time: 00:00:00.083"
                    },
                    "metadata": {}
                },
                {
                    "output_type": "execute_result",
                    "metadata": {},
                    "execution_count": 24,
                    "data": {
                        "application/vnd.dataresource+json": {
                            "schema": {
                                "fields": [
                                    {
                                        "name": "sorszám"
                                    },
                                    {
                                        "name": "USERNEV"
                                    },
                                    {
                                        "name": "NEV"
                                    },
                                    {
                                        "name": "db"
                                    }
                                ]
                            },
                            "data": [
                                {
                                    "sorszám": "1",
                                    "USERNEV": "ANDRASN",
                                    "NEV": "Nagy András",
                                    "db": "1"
                                },
                                {
                                    "sorszám": "1",
                                    "USERNEV": "andrea3",
                                    "NEV": "Szomor Andrea",
                                    "db": "1"
                                },
                                {
                                    "sorszám": "1",
                                    "USERNEV": "david4",
                                    "NEV": "Berta Dávid",
                                    "db": "1"
                                },
                                {
                                    "sorszám": "1",
                                    "USERNEV": "gabriella10",
                                    "NEV": "Vida Gabriella",
                                    "db": "1"
                                },
                                {
                                    "sorszám": "1",
                                    "USERNEV": "laszlo1",
                                    "NEV": "Farkas László",
                                    "db": "1"
                                },
                                {
                                    "sorszám": "1",
                                    "USERNEV": "szabolcs",
                                    "NEV": "Bodor Szabolcs",
                                    "db": "1"
                                },
                                {
                                    "sorszám": "1",
                                    "USERNEV": "tibor2",
                                    "NEV": "Dániel Tibor",
                                    "db": "1"
                                },
                                {
                                    "sorszám": "1",
                                    "USERNEV": "timea",
                                    "NEV": "Papós Tímea",
                                    "db": "1"
                                },
                                {
                                    "sorszám": "2",
                                    "USERNEV": "tibor",
                                    "NEV": "Gombos Tibor",
                                    "db": "2"
                                },
                                {
                                    "sorszám": "2",
                                    "USERNEV": "tamara2",
                                    "NEV": "Miklós Tamara",
                                    "db": "2"
                                },
                                {
                                    "sorszám": "2",
                                    "USERNEV": "ROBERTP",
                                    "NEV": "Pásztor Róbert",
                                    "db": "2"
                                },
                                {
                                    "sorszám": "2",
                                    "USERNEV": "VIKTORK",
                                    "NEV": "Keresztúri Viktor",
                                    "db": "2"
                                },
                                {
                                    "sorszám": "2",
                                    "USERNEV": "zoltan",
                                    "NEV": "Fodor Zoltán",
                                    "db": "2"
                                },
                                {
                                    "sorszám": "2",
                                    "USERNEV": "zsofi1",
                                    "NEV": "Molnár Zsófi",
                                    "db": "2"
                                },
                                {
                                    "sorszám": "2",
                                    "USERNEV": "kristof4",
                                    "NEV": "Poprádi Kristóf",
                                    "db": "2"
                                },
                                {
                                    "sorszám": "2",
                                    "USERNEV": "matyas2",
                                    "NEV": "Botka Mátyás",
                                    "db": "2"
                                },
                                {
                                    "sorszám": "2",
                                    "USERNEV": "eva",
                                    "NEV": "Enyedi Éva",
                                    "db": "2"
                                },
                                {
                                    "sorszám": "2",
                                    "USERNEV": "imre",
                                    "NEV": "Búza Imre",
                                    "db": "2"
                                },
                                {
                                    "sorszám": "2",
                                    "USERNEV": "ISTVANV",
                                    "NEV": "Varga István",
                                    "db": "2"
                                },
                                {
                                    "sorszám": "2",
                                    "USERNEV": "julia4",
                                    "NEV": "Nagy Júlia",
                                    "db": "2"
                                },
                                {
                                    "sorszám": "2",
                                    "USERNEV": "balint2",
                                    "NEV": "Vukasinovity Bálint",
                                    "db": "2"
                                },
                                {
                                    "sorszám": "2",
                                    "USERNEV": "balu",
                                    "NEV": "Endresz Bálint",
                                    "db": "2"
                                },
                                {
                                    "sorszám": "2",
                                    "USERNEV": "annamaria1",
                                    "NEV": "Szűcs Annamária",
                                    "db": "2"
                                },
                                {
                                    "sorszám": "2",
                                    "USERNEV": "adam3",
                                    "NEV": "Barkóci Ádám",
                                    "db": "2"
                                },
                                {
                                    "sorszám": "3",
                                    "USERNEV": "adam1",
                                    "NEV": "Kiss Ádám",
                                    "db": "3"
                                },
                                {
                                    "sorszám": "3",
                                    "USERNEV": "agnes3",
                                    "NEV": "Hartyánszky Ágnes",
                                    "db": "3"
                                },
                                {
                                    "sorszám": "3",
                                    "USERNEV": "AGNESK",
                                    "NEV": "Kovács Ágnes",
                                    "db": "3"
                                },
                                {
                                    "sorszám": "3",
                                    "USERNEV": "aladar",
                                    "NEV": "Dunai Aladár",
                                    "db": "3"
                                },
                                {
                                    "sorszám": "3",
                                    "USERNEV": "andras4",
                                    "NEV": "Back András",
                                    "db": "3"
                                },
                                {
                                    "sorszám": "3",
                                    "USERNEV": "ANDREAT",
                                    "NEV": "Tornyos Andrea",
                                    "db": "3"
                                },
                                {
                                    "sorszám": "3",
                                    "USERNEV": "aniko",
                                    "NEV": "Tóth Anikó",
                                    "db": "3"
                                },
                                {
                                    "sorszám": "3",
                                    "USERNEV": "balint",
                                    "NEV": "Horváth Bálint",
                                    "db": "3"
                                },
                                {
                                    "sorszám": "3",
                                    "USERNEV": "attila4",
                                    "NEV": "Baróti Attila",
                                    "db": "3"
                                },
                                {
                                    "sorszám": "3",
                                    "USERNEV": "attila",
                                    "NEV": "Csóti Attila",
                                    "db": "3"
                                },
                                {
                                    "sorszám": "3",
                                    "USERNEV": "JUDITH",
                                    "NEV": "Hídasi Judit",
                                    "db": "3"
                                },
                                {
                                    "sorszám": "3",
                                    "USERNEV": "jozsef",
                                    "NEV": "Gergely József",
                                    "db": "3"
                                },
                                {
                                    "sorszám": "3",
                                    "USERNEV": "istvan",
                                    "NEV": "Soós István",
                                    "db": "3"
                                },
                                {
                                    "sorszám": "3",
                                    "USERNEV": "eszter4",
                                    "NEV": "Fülöp Eszter",
                                    "db": "3"
                                },
                                {
                                    "sorszám": "3",
                                    "USERNEV": "henrik3",
                                    "NEV": "Nádudvari Henrik",
                                    "db": "3"
                                },
                                {
                                    "sorszám": "3",
                                    "USERNEV": "IBOLYAA",
                                    "NEV": "Andor Ibolya",
                                    "db": "3"
                                },
                                {
                                    "sorszám": "3",
                                    "USERNEV": "MATEK",
                                    "NEV": "Koza Máté",
                                    "db": "3"
                                },
                                {
                                    "sorszám": "3",
                                    "USERNEV": "miklos2",
                                    "NEV": "Gondos Miklós",
                                    "db": "3"
                                },
                                {
                                    "sorszám": "3",
                                    "USERNEV": "MIKLOSB",
                                    "NEV": "Balla Miklós",
                                    "db": "3"
                                },
                                {
                                    "sorszám": "3",
                                    "USERNEV": "NANDORF",
                                    "NEV": "Fő Nándor",
                                    "db": "3"
                                },
                                {
                                    "sorszám": "3",
                                    "USERNEV": "klaudia2",
                                    "NEV": "Bakó Klaudia",
                                    "db": "3"
                                },
                                {
                                    "sorszám": "3",
                                    "USERNEV": "kornel4",
                                    "NEV": "Lukács Kornél",
                                    "db": "3"
                                },
                                {
                                    "sorszám": "3",
                                    "USERNEV": "lajos",
                                    "NEV": "Kiss Lajos",
                                    "db": "3"
                                },
                                {
                                    "sorszám": "3",
                                    "USERNEV": "ZOLTANT",
                                    "NEV": "Tóth Zoltán",
                                    "db": "3"
                                },
                                {
                                    "sorszám": "3",
                                    "USERNEV": "zsuzsa",
                                    "NEV": "Pusztai Zsuzsanna",
                                    "db": "3"
                                },
                                {
                                    "sorszám": "3",
                                    "USERNEV": "roza2",
                                    "NEV": "Bucskó Róza",
                                    "db": "3"
                                },
                                {
                                    "sorszám": "3",
                                    "USERNEV": "norbert5",
                                    "NEV": "Béres Norbert",
                                    "db": "3"
                                },
                                {
                                    "sorszám": "4",
                                    "USERNEV": "rajmond4",
                                    "NEV": "Rácz Rajmond",
                                    "db": "4"
                                },
                                {
                                    "sorszám": "4",
                                    "USERNEV": "sandor",
                                    "NEV": "Karasz Sándor",
                                    "db": "4"
                                },
                                {
                                    "sorszám": "4",
                                    "USERNEV": "sandor4",
                                    "NEV": "Nagy Sándor",
                                    "db": "4"
                                },
                                {
                                    "sorszám": "4",
                                    "USERNEV": "roland",
                                    "NEV": "Tóth Roland",
                                    "db": "4"
                                },
                                {
                                    "sorszám": "4",
                                    "USERNEV": "roland1",
                                    "NEV": "Ferencz Roland",
                                    "db": "4"
                                },
                                {
                                    "sorszám": "4",
                                    "USERNEV": "robert2",
                                    "NEV": "Patay Róbert",
                                    "db": "4"
                                },
                                {
                                    "sorszám": "4",
                                    "USERNEV": "tamas",
                                    "NEV": "Antal Tamás",
                                    "db": "4"
                                },
                                {
                                    "sorszám": "4",
                                    "USERNEV": "sebestyen",
                                    "NEV": "Rab Sebestyén",
                                    "db": "4"
                                },
                                {
                                    "sorszám": "4",
                                    "USERNEV": "VIKTORIAU",
                                    "NEV": "Urbán Viktoria",
                                    "db": "4"
                                },
                                {
                                    "sorszám": "4",
                                    "USERNEV": "zsuzsa3",
                                    "NEV": "Varsányi Zsuzsa",
                                    "db": "4"
                                },
                                {
                                    "sorszám": "4",
                                    "USERNEV": "zsuzsanna",
                                    "NEV": "Barta Zsuzsanna",
                                    "db": "4"
                                },
                                {
                                    "sorszám": "4",
                                    "USERNEV": "zsolt1",
                                    "NEV": "Pulai Zsolt",
                                    "db": "4"
                                },
                                {
                                    "sorszám": "4",
                                    "USERNEV": "LASZLOA",
                                    "NEV": "Antal László",
                                    "db": "4"
                                },
                                {
                                    "sorszám": "4",
                                    "USERNEV": "MARKH",
                                    "NEV": "Horváth Márk",
                                    "db": "4"
                                },
                                {
                                    "sorszám": "4",
                                    "USERNEV": "nikolett3",
                                    "NEV": "Horváth Nikolett",
                                    "db": "4"
                                },
                                {
                                    "sorszám": "4",
                                    "USERNEV": "NIKOLETTAT",
                                    "NEV": "Tatár Nikoletta",
                                    "db": "4"
                                },
                                {
                                    "sorszám": "4",
                                    "USERNEV": "peter1",
                                    "NEV": "Kozma Péter",
                                    "db": "4"
                                },
                                {
                                    "sorszám": "4",
                                    "USERNEV": "peter2",
                                    "NEV": "Bozsó Péter",
                                    "db": "4"
                                },
                                {
                                    "sorszám": "4",
                                    "USERNEV": "ilona3",
                                    "NEV": "Bosnyák Ilona",
                                    "db": "4"
                                },
                                {
                                    "sorszám": "4",
                                    "USERNEV": "gabor4",
                                    "NEV": "Telek Gábor",
                                    "db": "4"
                                },
                                {
                                    "sorszám": "4",
                                    "USERNEV": "georgij",
                                    "NEV": "Nyíri Georgij",
                                    "db": "4"
                                },
                                {
                                    "sorszám": "4",
                                    "USERNEV": "ESZTERE",
                                    "NEV": "Érsek Eszter",
                                    "db": "4"
                                },
                                {
                                    "sorszám": "4",
                                    "USERNEV": "eva2",
                                    "NEV": "Perlinger Éva",
                                    "db": "4"
                                },
                                {
                                    "sorszám": "4",
                                    "USERNEV": "ferenc1",
                                    "NEV": "Orosz Ferenc",
                                    "db": "4"
                                },
                                {
                                    "sorszám": "4",
                                    "USERNEV": "istvan1",
                                    "NEV": "Vizi István",
                                    "db": "4"
                                },
                                {
                                    "sorszám": "4",
                                    "USERNEV": "julianna4",
                                    "NEV": "Szabó Julianna",
                                    "db": "4"
                                },
                                {
                                    "sorszám": "4",
                                    "USERNEV": "JANOSP",
                                    "NEV": "Pálinkás János",
                                    "db": "4"
                                },
                                {
                                    "sorszám": "4",
                                    "USERNEV": "ATTILAO",
                                    "NEV": "Opra Attila",
                                    "db": "4"
                                },
                                {
                                    "sorszám": "4",
                                    "USERNEV": "debora",
                                    "NEV": "Barna Debóra",
                                    "db": "4"
                                },
                                {
                                    "sorszám": "4",
                                    "USERNEV": "eszter",
                                    "NEV": "Molnár Eszter",
                                    "db": "4"
                                },
                                {
                                    "sorszám": "4",
                                    "USERNEV": "aniko4",
                                    "NEV": "Böröcz Anikó",
                                    "db": "4"
                                },
                                {
                                    "sorszám": "4",
                                    "USERNEV": "andrea4",
                                    "NEV": "Neizer Andrea",
                                    "db": "4"
                                },
                                {
                                    "sorszám": "4",
                                    "USERNEV": "anita",
                                    "NEV": "Hamvay-Kovács Anita",
                                    "db": "4"
                                },
                                {
                                    "sorszám": "5",
                                    "USERNEV": "ANDRASE",
                                    "NEV": "Erdei András",
                                    "db": "5"
                                },
                                {
                                    "sorszám": "5",
                                    "USERNEV": "andi",
                                    "NEV": "Maródi Andrea",
                                    "db": "5"
                                },
                                {
                                    "sorszám": "5",
                                    "USERNEV": "andras2",
                                    "NEV": "Tóth András",
                                    "db": "5"
                                },
                                {
                                    "sorszám": "5",
                                    "USERNEV": "agnes",
                                    "NEV": "Lengyel Ágnes",
                                    "db": "5"
                                },
                                {
                                    "sorszám": "5",
                                    "USERNEV": "dora3",
                                    "NEV": "Sarodi Dóra",
                                    "db": "5"
                                },
                                {
                                    "sorszám": "5",
                                    "USERNEV": "brigitta",
                                    "NEV": "Székely Brigitta",
                                    "db": "5"
                                },
                                {
                                    "sorszám": "5",
                                    "USERNEV": "brigitta3",
                                    "NEV": "Pataki Brigitta",
                                    "db": "5"
                                },
                                {
                                    "sorszám": "5",
                                    "USERNEV": "julia",
                                    "NEV": "Tóth Júlia",
                                    "db": "5"
                                },
                                {
                                    "sorszám": "5",
                                    "USERNEV": "jozsef2",
                                    "NEV": "Vajda József",
                                    "db": "5"
                                },
                                {
                                    "sorszám": "5",
                                    "USERNEV": "janos3",
                                    "NEV": "Harangozó János",
                                    "db": "5"
                                },
                                {
                                    "sorszám": "5",
                                    "USERNEV": "EVAV",
                                    "NEV": "Viktor Éva",
                                    "db": "5"
                                },
                                {
                                    "sorszám": "5",
                                    "USERNEV": "gusztav",
                                    "NEV": "Bárci Gusztáv",
                                    "db": "5"
                                },
                                {
                                    "sorszám": "5",
                                    "USERNEV": "norbert",
                                    "NEV": "Szűcs Norbert",
                                    "db": "5"
                                },
                                {
                                    "sorszám": "5",
                                    "USERNEV": "mark",
                                    "NEV": "Kispál Márk",
                                    "db": "5"
                                },
                                {
                                    "sorszám": "5",
                                    "USERNEV": "laszlo2",
                                    "NEV": "Móra László",
                                    "db": "5"
                                },
                                {
                                    "sorszám": "5",
                                    "USERNEV": "KRISZTINAG",
                                    "NEV": "Gyárfás Krisztina",
                                    "db": "5"
                                },
                                {
                                    "sorszám": "5",
                                    "USERNEV": "valentin",
                                    "NEV": "Feró Valentin",
                                    "db": "5"
                                },
                                {
                                    "sorszám": "5",
                                    "USERNEV": "timea2",
                                    "NEV": "Dusha Tímea",
                                    "db": "5"
                                },
                                {
                                    "sorszám": "5",
                                    "USERNEV": "SEBASTIANF",
                                    "NEV": "Foltényi Sebastián",
                                    "db": "5"
                                },
                                {
                                    "sorszám": "5",
                                    "USERNEV": "sandor3",
                                    "NEV": "Farkas Sándor",
                                    "db": "5"
                                },
                                {
                                    "sorszám": "5",
                                    "USERNEV": "reka4",
                                    "NEV": "Szikszai Réka",
                                    "db": "5"
                                },
                                {
                                    "sorszám": "5",
                                    "USERNEV": "MIHALYJ",
                                    "NEV": "Juhász Mihály",
                                    "db": "5"
                                },
                                {
                                    "sorszám": "5",
                                    "USERNEV": "RENATAS",
                                    "NEV": "Szirmai Renáta",
                                    "db": "5"
                                },
                                {
                                    "sorszám": "5",
                                    "USERNEV": "pal",
                                    "NEV": "Barabás Pál",
                                    "db": "5"
                                },
                                {
                                    "sorszám": "5",
                                    "USERNEV": "PETERB",
                                    "NEV": "Berendi Péter",
                                    "db": "5"
                                },
                                {
                                    "sorszám": "6",
                                    "USERNEV": "polla",
                                    "NEV": "Palágyi Polla",
                                    "db": "6"
                                },
                                {
                                    "sorszám": "6",
                                    "USERNEV": "RENATAK",
                                    "NEV": "Kardos Renáta",
                                    "db": "6"
                                },
                                {
                                    "sorszám": "6",
                                    "USERNEV": "tihamer",
                                    "NEV": "Kazy Tihamér",
                                    "db": "6"
                                },
                                {
                                    "sorszám": "6",
                                    "USERNEV": "veronika4",
                                    "NEV": "Tankó Veronika",
                                    "db": "6"
                                },
                                {
                                    "sorszám": "6",
                                    "USERNEV": "ZSOLTJ",
                                    "NEV": "Józsa Zsolt",
                                    "db": "6"
                                },
                                {
                                    "sorszám": "6",
                                    "USERNEV": "ZOLTANP",
                                    "NEV": "Pintér Zoltán",
                                    "db": "6"
                                },
                                {
                                    "sorszám": "6",
                                    "USERNEV": "ZSUZSAV",
                                    "NEV": "Vajda Zsuzsa",
                                    "db": "6"
                                },
                                {
                                    "sorszám": "6",
                                    "USERNEV": "krisztina1",
                                    "NEV": "Bori Krisztina",
                                    "db": "6"
                                },
                                {
                                    "sorszám": "6",
                                    "USERNEV": "KRISZTIANM",
                                    "NEV": "Mogyródi Krisztián",
                                    "db": "6"
                                },
                                {
                                    "sorszám": "6",
                                    "USERNEV": "kriszti",
                                    "NEV": "Horváth Krisztina",
                                    "db": "6"
                                },
                                {
                                    "sorszám": "6",
                                    "USERNEV": "lala",
                                    "NEV": "Nagymihály Lajos",
                                    "db": "6"
                                },
                                {
                                    "sorszám": "6",
                                    "USERNEV": "LASZLON",
                                    "NEV": "Nagy László",
                                    "db": "6"
                                },
                                {
                                    "sorszám": "6",
                                    "USERNEV": "MONIKAM",
                                    "NEV": "Mohos Mónika",
                                    "db": "6"
                                },
                                {
                                    "sorszám": "6",
                                    "USERNEV": "peter3",
                                    "NEV": "Szalai Péter",
                                    "db": "6"
                                },
                                {
                                    "sorszám": "6",
                                    "USERNEV": "gabriella1",
                                    "NEV": "Nagy Gabriella",
                                    "db": "6"
                                },
                                {
                                    "sorszám": "6",
                                    "USERNEV": "david1",
                                    "NEV": "Sobják Dávid",
                                    "db": "6"
                                },
                                {
                                    "sorszám": "6",
                                    "USERNEV": "gabor1",
                                    "NEV": "Köves Gábor",
                                    "db": "6"
                                },
                                {
                                    "sorszám": "6",
                                    "USERNEV": "katalin4",
                                    "NEV": "Kertész Katalin",
                                    "db": "6"
                                },
                                {
                                    "sorszám": "6",
                                    "USERNEV": "BENCEB",
                                    "NEV": "Bajusz Bence",
                                    "db": "6"
                                },
                                {
                                    "sorszám": "6",
                                    "USERNEV": "bertalan",
                                    "NEV": "Csiger Bertalan",
                                    "db": "6"
                                },
                                {
                                    "sorszám": "6",
                                    "USERNEV": "denes",
                                    "NEV": "Tömböly Dénes",
                                    "db": "6"
                                },
                                {
                                    "sorszám": "6",
                                    "USERNEV": "balazs1",
                                    "NEV": "Bozsik Balázs",
                                    "db": "6"
                                },
                                {
                                    "sorszám": "6",
                                    "USERNEV": "attila1",
                                    "NEV": "Gulyás Attila",
                                    "db": "6"
                                },
                                {
                                    "sorszám": "6",
                                    "USERNEV": "ARPADM",
                                    "NEV": "Móricz Árpád",
                                    "db": "6"
                                },
                                {
                                    "sorszám": "6",
                                    "USERNEV": "balazs3",
                                    "NEV": "Bakódy Balázs",
                                    "db": "6"
                                },
                                {
                                    "sorszám": "6",
                                    "USERNEV": "BEATRIXS",
                                    "NEV": "Szekendi Beatrix",
                                    "db": "6"
                                },
                                {
                                    "sorszám": "6",
                                    "USERNEV": "BELAF",
                                    "NEV": "Farkas Béla",
                                    "db": "6"
                                },
                                {
                                    "sorszám": "6",
                                    "USERNEV": "beata4",
                                    "NEV": "Bagi Beáta",
                                    "db": "6"
                                },
                                {
                                    "sorszám": "6",
                                    "USERNEV": "adam4",
                                    "NEV": "Bieniek Ádám",
                                    "db": "6"
                                },
                                {
                                    "sorszám": "6",
                                    "USERNEV": "AGNESH",
                                    "NEV": "Horváth Ágnes",
                                    "db": "6"
                                },
                                {
                                    "sorszám": "6",
                                    "USERNEV": "ANNAMARIAR",
                                    "NEV": "Regős Annamária",
                                    "db": "6"
                                },
                                {
                                    "sorszám": "6",
                                    "USERNEV": "aron2",
                                    "NEV": "Jakab Áron",
                                    "db": "6"
                                },
                                {
                                    "sorszám": "6",
                                    "USERNEV": "andrea",
                                    "NEV": "Kiss Andrea",
                                    "db": "6"
                                },
                                {
                                    "sorszám": "7",
                                    "USERNEV": "arpad2",
                                    "NEV": "Ötvös Árpád",
                                    "db": "7"
                                },
                                {
                                    "sorszám": "7",
                                    "USERNEV": "ARPADH",
                                    "NEV": "Horváth Árpád",
                                    "db": "7"
                                },
                                {
                                    "sorszám": "7",
                                    "USERNEV": "andras21",
                                    "NEV": "Molnár András",
                                    "db": "7"
                                },
                                {
                                    "sorszám": "7",
                                    "USERNEV": "alexandra",
                                    "NEV": "Bagóczki Alexandra",
                                    "db": "7"
                                },
                                {
                                    "sorszám": "7",
                                    "USERNEV": "daniel1",
                                    "NEV": "Keszler Dániel",
                                    "db": "7"
                                },
                                {
                                    "sorszám": "7",
                                    "USERNEV": "edit",
                                    "NEV": "Bittmann Edit",
                                    "db": "7"
                                },
                                {
                                    "sorszám": "7",
                                    "USERNEV": "emese",
                                    "NEV": "Kuruc Emese",
                                    "db": "7"
                                },
                                {
                                    "sorszám": "7",
                                    "USERNEV": "BERNADETTO",
                                    "NEV": "Orbán Bernadett",
                                    "db": "7"
                                },
                                {
                                    "sorszám": "7",
                                    "USERNEV": "bernadett1",
                                    "NEV": "Simon Bernadett",
                                    "db": "7"
                                },
                                {
                                    "sorszám": "7",
                                    "USERNEV": "kati",
                                    "NEV": "Zatykó Katalin",
                                    "db": "7"
                                },
                                {
                                    "sorszám": "7",
                                    "USERNEV": "JANOSG",
                                    "NEV": "Giliga János",
                                    "db": "7"
                                },
                                {
                                    "sorszám": "7",
                                    "USERNEV": "JOZSEFG",
                                    "NEV": "Gyuris József",
                                    "db": "7"
                                },
                                {
                                    "sorszám": "7",
                                    "USERNEV": "imre1",
                                    "NEV": "Papp Imre",
                                    "db": "7"
                                },
                                {
                                    "sorszám": "7",
                                    "USERNEV": "GYONGYIK",
                                    "NEV": "Kornseé Gyöngyi",
                                    "db": "7"
                                },
                                {
                                    "sorszám": "7",
                                    "USERNEV": "norbert2",
                                    "NEV": "Hegedűs Norbert",
                                    "db": "7"
                                },
                                {
                                    "sorszám": "7",
                                    "USERNEV": "nikoletta4",
                                    "NEV": "Kő Nikoletta",
                                    "db": "7"
                                },
                                {
                                    "sorszám": "7",
                                    "USERNEV": "marton",
                                    "NEV": "Kalacsi Márton",
                                    "db": "7"
                                },
                                {
                                    "sorszám": "7",
                                    "USERNEV": "vivien3",
                                    "NEV": "Boros Vivien",
                                    "db": "7"
                                },
                                {
                                    "sorszám": "7",
                                    "USERNEV": "SZABOLCSM",
                                    "NEV": "Miklós Szabolcs",
                                    "db": "7"
                                },
                                {
                                    "sorszám": "7",
                                    "USERNEV": "SZILARDS",
                                    "NEV": "Szalai Szilárd",
                                    "db": "7"
                                },
                                {
                                    "sorszám": "8",
                                    "USERNEV": "tunde",
                                    "NEV": "Turcsik Tünde",
                                    "db": "8"
                                },
                                {
                                    "sorszám": "8",
                                    "USERNEV": "ROBERTI",
                                    "NEV": "Iván Róbert",
                                    "db": "8"
                                },
                                {
                                    "sorszám": "8",
                                    "USERNEV": "maria1",
                                    "NEV": "Baráth Mária",
                                    "db": "8"
                                },
                                {
                                    "sorszám": "8",
                                    "USERNEV": "krisztina",
                                    "NEV": "Szedlár Krisztina",
                                    "db": "8"
                                },
                                {
                                    "sorszám": "8",
                                    "USERNEV": "MATYASS",
                                    "NEV": "Szilágyi Mátyás",
                                    "db": "8"
                                },
                                {
                                    "sorszám": "8",
                                    "USERNEV": "GYORGYO",
                                    "NEV": "Oroszi György",
                                    "db": "8"
                                },
                                {
                                    "sorszám": "8",
                                    "USERNEV": "fruzsina4",
                                    "NEV": "Frank Fruzsina",
                                    "db": "8"
                                },
                                {
                                    "sorszám": "8",
                                    "USERNEV": "bernadett2",
                                    "NEV": "Kovács Bernadett",
                                    "db": "8"
                                },
                                {
                                    "sorszám": "8",
                                    "USERNEV": "csongor3",
                                    "NEV": "Nagymihály Csongor",
                                    "db": "8"
                                },
                                {
                                    "sorszám": "8",
                                    "USERNEV": "andras3",
                                    "NEV": "Vígh András",
                                    "db": "8"
                                },
                                {
                                    "sorszám": "8",
                                    "USERNEV": "anett3",
                                    "NEV": "Pivarcsi Anett",
                                    "db": "8"
                                },
                                {
                                    "sorszám": "9",
                                    "USERNEV": "ANIKOS",
                                    "NEV": "Simon Anikó",
                                    "db": "9"
                                },
                                {
                                    "sorszám": "9",
                                    "USERNEV": "dani",
                                    "NEV": "Vörös Dániel",
                                    "db": "9"
                                },
                                {
                                    "sorszám": "9",
                                    "USERNEV": "daniel",
                                    "NEV": "Rácz Dániel",
                                    "db": "9"
                                },
                                {
                                    "sorszám": "9",
                                    "USERNEV": "david",
                                    "NEV": "Ambrus Dávid",
                                    "db": "9"
                                },
                                {
                                    "sorszám": "9",
                                    "USERNEV": "BEATRIXK",
                                    "NEV": "Kerényi Beatrix",
                                    "db": "9"
                                },
                                {
                                    "sorszám": "9",
                                    "USERNEV": "bence",
                                    "NEV": "Győrffy Bence",
                                    "db": "9"
                                },
                                {
                                    "sorszám": "9",
                                    "USERNEV": "katka",
                                    "NEV": "Kovács Katalin",
                                    "db": "9"
                                },
                                {
                                    "sorszám": "9",
                                    "USERNEV": "katalin",
                                    "NEV": "Horváth Katalin",
                                    "db": "9"
                                },
                                {
                                    "sorszám": "9",
                                    "USERNEV": "norbert4",
                                    "NEV": "Mile Norbert",
                                    "db": "9"
                                },
                                {
                                    "sorszám": "9",
                                    "USERNEV": "szilvia1",
                                    "NEV": "Tari Szilvia",
                                    "db": "9"
                                },
                                {
                                    "sorszám": "9",
                                    "USERNEV": "TAMASF",
                                    "NEV": "Fényes Tamás",
                                    "db": "9"
                                },
                                {
                                    "sorszám": "10",
                                    "USERNEV": "kata",
                                    "NEV": "Gondos Katalin",
                                    "db": "10"
                                },
                                {
                                    "sorszám": "10",
                                    "USERNEV": "balint1",
                                    "NEV": "Molnár Bálint",
                                    "db": "10"
                                },
                                {
                                    "sorszám": "10",
                                    "USERNEV": "balazs2",
                                    "NEV": "Szűcs Balázs",
                                    "db": "10"
                                },
                                {
                                    "sorszám": "10",
                                    "USERNEV": "eszter2",
                                    "NEV": "Balogh Eszter",
                                    "db": "10"
                                },
                                {
                                    "sorszám": "10",
                                    "USERNEV": "akos",
                                    "NEV": "Bíró Ákos",
                                    "db": "10"
                                },
                                {
                                    "sorszám": "11",
                                    "USERNEV": "peter4",
                                    "NEV": "Bíró Péter",
                                    "db": "12"
                                },
                                {
                                    "sorszám": "11",
                                    "USERNEV": "krisztian4",
                                    "NEV": "Czérna Krisztián",
                                    "db": "12"
                                },
                                {
                                    "sorszám": "11",
                                    "USERNEV": "sara",
                                    "NEV": "Farkas Sára",
                                    "db": "12"
                                },
                                {
                                    "sorszám": "11",
                                    "USERNEV": "zoltan4",
                                    "NEV": "Barna Zoltán",
                                    "db": "12"
                                },
                                {
                                    "sorszám": "12",
                                    "USERNEV": "andras41",
                                    "NEV": "Komjáti András",
                                    "db": "13"
                                },
                                {
                                    "sorszám": "12",
                                    "USERNEV": "ARONK",
                                    "NEV": "Kelemen Áron",
                                    "db": "13"
                                }
                            ]
                        },
                        "text/html": [
                            "<table>",
                            "<tr><th>sorszám</th><th>USERNEV</th><th>NEV</th><th>db</th></tr>",
                            "<tr><td>1</td><td>ANDRASN</td><td>Nagy András</td><td>1</td></tr>",
                            "<tr><td>1</td><td>andrea3</td><td>Szomor Andrea</td><td>1</td></tr>",
                            "<tr><td>1</td><td>david4</td><td>Berta Dávid</td><td>1</td></tr>",
                            "<tr><td>1</td><td>gabriella10</td><td>Vida Gabriella</td><td>1</td></tr>",
                            "<tr><td>1</td><td>laszlo1</td><td>Farkas László</td><td>1</td></tr>",
                            "<tr><td>1</td><td>szabolcs</td><td>Bodor Szabolcs</td><td>1</td></tr>",
                            "<tr><td>1</td><td>tibor2</td><td>Dániel Tibor</td><td>1</td></tr>",
                            "<tr><td>1</td><td>timea</td><td>Papós Tímea</td><td>1</td></tr>",
                            "<tr><td>2</td><td>tibor</td><td>Gombos Tibor</td><td>2</td></tr>",
                            "<tr><td>2</td><td>tamara2</td><td>Miklós Tamara</td><td>2</td></tr>",
                            "<tr><td>2</td><td>ROBERTP</td><td>Pásztor Róbert</td><td>2</td></tr>",
                            "<tr><td>2</td><td>VIKTORK</td><td>Keresztúri Viktor</td><td>2</td></tr>",
                            "<tr><td>2</td><td>zoltan</td><td>Fodor Zoltán</td><td>2</td></tr>",
                            "<tr><td>2</td><td>zsofi1</td><td>Molnár Zsófi</td><td>2</td></tr>",
                            "<tr><td>2</td><td>kristof4</td><td>Poprádi Kristóf</td><td>2</td></tr>",
                            "<tr><td>2</td><td>matyas2</td><td>Botka Mátyás</td><td>2</td></tr>",
                            "<tr><td>2</td><td>eva</td><td>Enyedi Éva</td><td>2</td></tr>",
                            "<tr><td>2</td><td>imre</td><td>Búza Imre</td><td>2</td></tr>",
                            "<tr><td>2</td><td>ISTVANV</td><td>Varga István</td><td>2</td></tr>",
                            "<tr><td>2</td><td>julia4</td><td>Nagy Júlia</td><td>2</td></tr>",
                            "<tr><td>2</td><td>balint2</td><td>Vukasinovity Bálint</td><td>2</td></tr>",
                            "<tr><td>2</td><td>balu</td><td>Endresz Bálint</td><td>2</td></tr>",
                            "<tr><td>2</td><td>annamaria1</td><td>Szűcs Annamária</td><td>2</td></tr>",
                            "<tr><td>2</td><td>adam3</td><td>Barkóci Ádám</td><td>2</td></tr>",
                            "<tr><td>3</td><td>adam1</td><td>Kiss Ádám</td><td>3</td></tr>",
                            "<tr><td>3</td><td>agnes3</td><td>Hartyánszky Ágnes</td><td>3</td></tr>",
                            "<tr><td>3</td><td>AGNESK</td><td>Kovács Ágnes</td><td>3</td></tr>",
                            "<tr><td>3</td><td>aladar</td><td>Dunai Aladár</td><td>3</td></tr>",
                            "<tr><td>3</td><td>andras4</td><td>Back András</td><td>3</td></tr>",
                            "<tr><td>3</td><td>ANDREAT</td><td>Tornyos Andrea</td><td>3</td></tr>",
                            "<tr><td>3</td><td>aniko</td><td>Tóth Anikó</td><td>3</td></tr>",
                            "<tr><td>3</td><td>balint</td><td>Horváth Bálint</td><td>3</td></tr>",
                            "<tr><td>3</td><td>attila4</td><td>Baróti Attila</td><td>3</td></tr>",
                            "<tr><td>3</td><td>attila</td><td>Csóti Attila</td><td>3</td></tr>",
                            "<tr><td>3</td><td>JUDITH</td><td>Hídasi Judit</td><td>3</td></tr>",
                            "<tr><td>3</td><td>jozsef</td><td>Gergely József</td><td>3</td></tr>",
                            "<tr><td>3</td><td>istvan</td><td>Soós István</td><td>3</td></tr>",
                            "<tr><td>3</td><td>eszter4</td><td>Fülöp Eszter</td><td>3</td></tr>",
                            "<tr><td>3</td><td>henrik3</td><td>Nádudvari Henrik</td><td>3</td></tr>",
                            "<tr><td>3</td><td>IBOLYAA</td><td>Andor Ibolya</td><td>3</td></tr>",
                            "<tr><td>3</td><td>MATEK</td><td>Koza Máté</td><td>3</td></tr>",
                            "<tr><td>3</td><td>miklos2</td><td>Gondos Miklós</td><td>3</td></tr>",
                            "<tr><td>3</td><td>MIKLOSB</td><td>Balla Miklós</td><td>3</td></tr>",
                            "<tr><td>3</td><td>NANDORF</td><td>Fő Nándor</td><td>3</td></tr>",
                            "<tr><td>3</td><td>klaudia2</td><td>Bakó Klaudia</td><td>3</td></tr>",
                            "<tr><td>3</td><td>kornel4</td><td>Lukács Kornél</td><td>3</td></tr>",
                            "<tr><td>3</td><td>lajos</td><td>Kiss Lajos</td><td>3</td></tr>",
                            "<tr><td>3</td><td>ZOLTANT</td><td>Tóth Zoltán</td><td>3</td></tr>",
                            "<tr><td>3</td><td>zsuzsa</td><td>Pusztai Zsuzsanna</td><td>3</td></tr>",
                            "<tr><td>3</td><td>roza2</td><td>Bucskó Róza</td><td>3</td></tr>",
                            "<tr><td>3</td><td>norbert5</td><td>Béres Norbert</td><td>3</td></tr>",
                            "<tr><td>4</td><td>rajmond4</td><td>Rácz Rajmond</td><td>4</td></tr>",
                            "<tr><td>4</td><td>sandor</td><td>Karasz Sándor</td><td>4</td></tr>",
                            "<tr><td>4</td><td>sandor4</td><td>Nagy Sándor</td><td>4</td></tr>",
                            "<tr><td>4</td><td>roland</td><td>Tóth Roland</td><td>4</td></tr>",
                            "<tr><td>4</td><td>roland1</td><td>Ferencz Roland</td><td>4</td></tr>",
                            "<tr><td>4</td><td>robert2</td><td>Patay Róbert</td><td>4</td></tr>",
                            "<tr><td>4</td><td>tamas</td><td>Antal Tamás</td><td>4</td></tr>",
                            "<tr><td>4</td><td>sebestyen</td><td>Rab Sebestyén</td><td>4</td></tr>",
                            "<tr><td>4</td><td>VIKTORIAU</td><td>Urbán Viktoria</td><td>4</td></tr>",
                            "<tr><td>4</td><td>zsuzsa3</td><td>Varsányi Zsuzsa</td><td>4</td></tr>",
                            "<tr><td>4</td><td>zsuzsanna</td><td>Barta Zsuzsanna</td><td>4</td></tr>",
                            "<tr><td>4</td><td>zsolt1</td><td>Pulai Zsolt</td><td>4</td></tr>",
                            "<tr><td>4</td><td>LASZLOA</td><td>Antal László</td><td>4</td></tr>",
                            "<tr><td>4</td><td>MARKH</td><td>Horváth Márk</td><td>4</td></tr>",
                            "<tr><td>4</td><td>nikolett3</td><td>Horváth Nikolett</td><td>4</td></tr>",
                            "<tr><td>4</td><td>NIKOLETTAT</td><td>Tatár Nikoletta</td><td>4</td></tr>",
                            "<tr><td>4</td><td>peter1</td><td>Kozma Péter</td><td>4</td></tr>",
                            "<tr><td>4</td><td>peter2</td><td>Bozsó Péter</td><td>4</td></tr>",
                            "<tr><td>4</td><td>ilona3</td><td>Bosnyák Ilona</td><td>4</td></tr>",
                            "<tr><td>4</td><td>gabor4</td><td>Telek Gábor</td><td>4</td></tr>",
                            "<tr><td>4</td><td>georgij</td><td>Nyíri Georgij</td><td>4</td></tr>",
                            "<tr><td>4</td><td>ESZTERE</td><td>Érsek Eszter</td><td>4</td></tr>",
                            "<tr><td>4</td><td>eva2</td><td>Perlinger Éva</td><td>4</td></tr>",
                            "<tr><td>4</td><td>ferenc1</td><td>Orosz Ferenc</td><td>4</td></tr>",
                            "<tr><td>4</td><td>istvan1</td><td>Vizi István</td><td>4</td></tr>",
                            "<tr><td>4</td><td>julianna4</td><td>Szabó Julianna</td><td>4</td></tr>",
                            "<tr><td>4</td><td>JANOSP</td><td>Pálinkás János</td><td>4</td></tr>",
                            "<tr><td>4</td><td>ATTILAO</td><td>Opra Attila</td><td>4</td></tr>",
                            "<tr><td>4</td><td>debora</td><td>Barna Debóra</td><td>4</td></tr>",
                            "<tr><td>4</td><td>eszter</td><td>Molnár Eszter</td><td>4</td></tr>",
                            "<tr><td>4</td><td>aniko4</td><td>Böröcz Anikó</td><td>4</td></tr>",
                            "<tr><td>4</td><td>andrea4</td><td>Neizer Andrea</td><td>4</td></tr>",
                            "<tr><td>4</td><td>anita</td><td>Hamvay-Kovács Anita</td><td>4</td></tr>",
                            "<tr><td>5</td><td>ANDRASE</td><td>Erdei András</td><td>5</td></tr>",
                            "<tr><td>5</td><td>andi</td><td>Maródi Andrea</td><td>5</td></tr>",
                            "<tr><td>5</td><td>andras2</td><td>Tóth András</td><td>5</td></tr>",
                            "<tr><td>5</td><td>agnes</td><td>Lengyel Ágnes</td><td>5</td></tr>",
                            "<tr><td>5</td><td>dora3</td><td>Sarodi Dóra</td><td>5</td></tr>",
                            "<tr><td>5</td><td>brigitta</td><td>Székely Brigitta</td><td>5</td></tr>",
                            "<tr><td>5</td><td>brigitta3</td><td>Pataki Brigitta</td><td>5</td></tr>",
                            "<tr><td>5</td><td>julia</td><td>Tóth Júlia</td><td>5</td></tr>",
                            "<tr><td>5</td><td>jozsef2</td><td>Vajda József</td><td>5</td></tr>",
                            "<tr><td>5</td><td>janos3</td><td>Harangozó János</td><td>5</td></tr>",
                            "<tr><td>5</td><td>EVAV</td><td>Viktor Éva</td><td>5</td></tr>",
                            "<tr><td>5</td><td>gusztav</td><td>Bárci Gusztáv</td><td>5</td></tr>",
                            "<tr><td>5</td><td>norbert</td><td>Szűcs Norbert</td><td>5</td></tr>",
                            "<tr><td>5</td><td>mark</td><td>Kispál Márk</td><td>5</td></tr>",
                            "<tr><td>5</td><td>laszlo2</td><td>Móra László</td><td>5</td></tr>",
                            "<tr><td>5</td><td>KRISZTINAG</td><td>Gyárfás Krisztina</td><td>5</td></tr>",
                            "<tr><td>5</td><td>valentin</td><td>Feró Valentin</td><td>5</td></tr>",
                            "<tr><td>5</td><td>timea2</td><td>Dusha Tímea</td><td>5</td></tr>",
                            "<tr><td>5</td><td>SEBASTIANF</td><td>Foltényi Sebastián</td><td>5</td></tr>",
                            "<tr><td>5</td><td>sandor3</td><td>Farkas Sándor</td><td>5</td></tr>",
                            "<tr><td>5</td><td>reka4</td><td>Szikszai Réka</td><td>5</td></tr>",
                            "<tr><td>5</td><td>MIHALYJ</td><td>Juhász Mihály</td><td>5</td></tr>",
                            "<tr><td>5</td><td>RENATAS</td><td>Szirmai Renáta</td><td>5</td></tr>",
                            "<tr><td>5</td><td>pal</td><td>Barabás Pál</td><td>5</td></tr>",
                            "<tr><td>5</td><td>PETERB</td><td>Berendi Péter</td><td>5</td></tr>",
                            "<tr><td>6</td><td>polla</td><td>Palágyi Polla</td><td>6</td></tr>",
                            "<tr><td>6</td><td>RENATAK</td><td>Kardos Renáta</td><td>6</td></tr>",
                            "<tr><td>6</td><td>tihamer</td><td>Kazy Tihamér</td><td>6</td></tr>",
                            "<tr><td>6</td><td>veronika4</td><td>Tankó Veronika</td><td>6</td></tr>",
                            "<tr><td>6</td><td>ZSOLTJ</td><td>Józsa Zsolt</td><td>6</td></tr>",
                            "<tr><td>6</td><td>ZOLTANP</td><td>Pintér Zoltán</td><td>6</td></tr>",
                            "<tr><td>6</td><td>ZSUZSAV</td><td>Vajda Zsuzsa</td><td>6</td></tr>",
                            "<tr><td>6</td><td>krisztina1</td><td>Bori Krisztina</td><td>6</td></tr>",
                            "<tr><td>6</td><td>KRISZTIANM</td><td>Mogyródi Krisztián</td><td>6</td></tr>",
                            "<tr><td>6</td><td>kriszti</td><td>Horváth Krisztina</td><td>6</td></tr>",
                            "<tr><td>6</td><td>lala</td><td>Nagymihály Lajos</td><td>6</td></tr>",
                            "<tr><td>6</td><td>LASZLON</td><td>Nagy László</td><td>6</td></tr>",
                            "<tr><td>6</td><td>MONIKAM</td><td>Mohos Mónika</td><td>6</td></tr>",
                            "<tr><td>6</td><td>peter3</td><td>Szalai Péter</td><td>6</td></tr>",
                            "<tr><td>6</td><td>gabriella1</td><td>Nagy Gabriella</td><td>6</td></tr>",
                            "<tr><td>6</td><td>david1</td><td>Sobják Dávid</td><td>6</td></tr>",
                            "<tr><td>6</td><td>gabor1</td><td>Köves Gábor</td><td>6</td></tr>",
                            "<tr><td>6</td><td>katalin4</td><td>Kertész Katalin</td><td>6</td></tr>",
                            "<tr><td>6</td><td>BENCEB</td><td>Bajusz Bence</td><td>6</td></tr>",
                            "<tr><td>6</td><td>bertalan</td><td>Csiger Bertalan</td><td>6</td></tr>",
                            "<tr><td>6</td><td>denes</td><td>Tömböly Dénes</td><td>6</td></tr>",
                            "<tr><td>6</td><td>balazs1</td><td>Bozsik Balázs</td><td>6</td></tr>",
                            "<tr><td>6</td><td>attila1</td><td>Gulyás Attila</td><td>6</td></tr>",
                            "<tr><td>6</td><td>ARPADM</td><td>Móricz Árpád</td><td>6</td></tr>",
                            "<tr><td>6</td><td>balazs3</td><td>Bakódy Balázs</td><td>6</td></tr>",
                            "<tr><td>6</td><td>BEATRIXS</td><td>Szekendi Beatrix</td><td>6</td></tr>",
                            "<tr><td>6</td><td>BELAF</td><td>Farkas Béla</td><td>6</td></tr>",
                            "<tr><td>6</td><td>beata4</td><td>Bagi Beáta</td><td>6</td></tr>",
                            "<tr><td>6</td><td>adam4</td><td>Bieniek Ádám</td><td>6</td></tr>",
                            "<tr><td>6</td><td>AGNESH</td><td>Horváth Ágnes</td><td>6</td></tr>",
                            "<tr><td>6</td><td>ANNAMARIAR</td><td>Regős Annamária</td><td>6</td></tr>",
                            "<tr><td>6</td><td>aron2</td><td>Jakab Áron</td><td>6</td></tr>",
                            "<tr><td>6</td><td>andrea</td><td>Kiss Andrea</td><td>6</td></tr>",
                            "<tr><td>7</td><td>arpad2</td><td>Ötvös Árpád</td><td>7</td></tr>",
                            "<tr><td>7</td><td>ARPADH</td><td>Horváth Árpád</td><td>7</td></tr>",
                            "<tr><td>7</td><td>andras21</td><td>Molnár András</td><td>7</td></tr>",
                            "<tr><td>7</td><td>alexandra</td><td>Bagóczki Alexandra</td><td>7</td></tr>",
                            "<tr><td>7</td><td>daniel1</td><td>Keszler Dániel</td><td>7</td></tr>",
                            "<tr><td>7</td><td>edit</td><td>Bittmann Edit</td><td>7</td></tr>",
                            "<tr><td>7</td><td>emese</td><td>Kuruc Emese</td><td>7</td></tr>",
                            "<tr><td>7</td><td>BERNADETTO</td><td>Orbán Bernadett</td><td>7</td></tr>",
                            "<tr><td>7</td><td>bernadett1</td><td>Simon Bernadett</td><td>7</td></tr>",
                            "<tr><td>7</td><td>kati</td><td>Zatykó Katalin</td><td>7</td></tr>",
                            "<tr><td>7</td><td>JANOSG</td><td>Giliga János</td><td>7</td></tr>",
                            "<tr><td>7</td><td>JOZSEFG</td><td>Gyuris József</td><td>7</td></tr>",
                            "<tr><td>7</td><td>imre1</td><td>Papp Imre</td><td>7</td></tr>",
                            "<tr><td>7</td><td>GYONGYIK</td><td>Kornseé Gyöngyi</td><td>7</td></tr>",
                            "<tr><td>7</td><td>norbert2</td><td>Hegedűs Norbert</td><td>7</td></tr>",
                            "<tr><td>7</td><td>nikoletta4</td><td>Kő Nikoletta</td><td>7</td></tr>",
                            "<tr><td>7</td><td>marton</td><td>Kalacsi Márton</td><td>7</td></tr>",
                            "<tr><td>7</td><td>vivien3</td><td>Boros Vivien</td><td>7</td></tr>",
                            "<tr><td>7</td><td>SZABOLCSM</td><td>Miklós Szabolcs</td><td>7</td></tr>",
                            "<tr><td>7</td><td>SZILARDS</td><td>Szalai Szilárd</td><td>7</td></tr>",
                            "<tr><td>8</td><td>tunde</td><td>Turcsik Tünde</td><td>8</td></tr>",
                            "<tr><td>8</td><td>ROBERTI</td><td>Iván Róbert</td><td>8</td></tr>",
                            "<tr><td>8</td><td>maria1</td><td>Baráth Mária</td><td>8</td></tr>",
                            "<tr><td>8</td><td>krisztina</td><td>Szedlár Krisztina</td><td>8</td></tr>",
                            "<tr><td>8</td><td>MATYASS</td><td>Szilágyi Mátyás</td><td>8</td></tr>",
                            "<tr><td>8</td><td>GYORGYO</td><td>Oroszi György</td><td>8</td></tr>",
                            "<tr><td>8</td><td>fruzsina4</td><td>Frank Fruzsina</td><td>8</td></tr>",
                            "<tr><td>8</td><td>bernadett2</td><td>Kovács Bernadett</td><td>8</td></tr>",
                            "<tr><td>8</td><td>csongor3</td><td>Nagymihály Csongor</td><td>8</td></tr>",
                            "<tr><td>8</td><td>andras3</td><td>Vígh András</td><td>8</td></tr>",
                            "<tr><td>8</td><td>anett3</td><td>Pivarcsi Anett</td><td>8</td></tr>",
                            "<tr><td>9</td><td>ANIKOS</td><td>Simon Anikó</td><td>9</td></tr>",
                            "<tr><td>9</td><td>dani</td><td>Vörös Dániel</td><td>9</td></tr>",
                            "<tr><td>9</td><td>daniel</td><td>Rácz Dániel</td><td>9</td></tr>",
                            "<tr><td>9</td><td>david</td><td>Ambrus Dávid</td><td>9</td></tr>",
                            "<tr><td>9</td><td>BEATRIXK</td><td>Kerényi Beatrix</td><td>9</td></tr>",
                            "<tr><td>9</td><td>bence</td><td>Győrffy Bence</td><td>9</td></tr>",
                            "<tr><td>9</td><td>katka</td><td>Kovács Katalin</td><td>9</td></tr>",
                            "<tr><td>9</td><td>katalin</td><td>Horváth Katalin</td><td>9</td></tr>",
                            "<tr><td>9</td><td>norbert4</td><td>Mile Norbert</td><td>9</td></tr>",
                            "<tr><td>9</td><td>szilvia1</td><td>Tari Szilvia</td><td>9</td></tr>",
                            "<tr><td>9</td><td>TAMASF</td><td>Fényes Tamás</td><td>9</td></tr>",
                            "<tr><td>10</td><td>kata</td><td>Gondos Katalin</td><td>10</td></tr>",
                            "<tr><td>10</td><td>balint1</td><td>Molnár Bálint</td><td>10</td></tr>",
                            "<tr><td>10</td><td>balazs2</td><td>Szűcs Balázs</td><td>10</td></tr>",
                            "<tr><td>10</td><td>eszter2</td><td>Balogh Eszter</td><td>10</td></tr>",
                            "<tr><td>10</td><td>akos</td><td>Bíró Ákos</td><td>10</td></tr>",
                            "<tr><td>11</td><td>peter4</td><td>Bíró Péter</td><td>12</td></tr>",
                            "<tr><td>11</td><td>krisztian4</td><td>Czérna Krisztián</td><td>12</td></tr>",
                            "<tr><td>11</td><td>sara</td><td>Farkas Sára</td><td>12</td></tr>",
                            "<tr><td>11</td><td>zoltan4</td><td>Barna Zoltán</td><td>12</td></tr>",
                            "<tr><td>12</td><td>andras41</td><td>Komjáti András</td><td>13</td></tr>",
                            "<tr><td>12</td><td>ARONK</td><td>Kelemen Áron</td><td>13</td></tr>",
                            "</table>"
                        ]
                    }
                }
            ],
            "execution_count": 24
        },
        {
            "cell_type": "markdown",
            "source": [
                "Készítsen lekérdezést, amely megjeleníti, hogy szálláshelyenként, azon belül a pótágyak száma szerint hány főre foglaltak összesen (felnőtt + gyermek)!\n",
                "\n",
                "- Jelenjenek meg a részösszegek és a végösszeg is!"
            ],
            "metadata": {
                "azdata_cell_guid": "56025c9a-d269-4845-b40b-edfd7afdba4e"
            },
            "attachments": {}
        },
        {
            "cell_type": "code",
            "source": [
                "SELECT iif(GROUPING_ID(szh.SZALLAS_NEV)=1, 'Vegosszeg', szh.SZALLAS_NEV) as 'Szallas_nev',\r\n",
                "        sz.POTAGY,\r\n",
                "        SUM(f.FELNOTT_SZAM+f.GYERMEK_SZAM) 'Fo'\r\n",
                "FROM szallashely szh JOIN Szoba sz ON szh.SZALLAS_ID = sz.SZALLAS_FK\r\n",
                "                    JOIN Foglalas f ON f.SZOBA_FK = sz.SZOBA_ID\r\n",
                "GROUP BY rollup(szh.SZALLAS_NEV, sz.POTAGY)"
            ],
            "metadata": {
                "azdata_cell_guid": "42d5e724-fb7c-4225-b4c5-edf9ce34fe4c",
                "language": "sql"
            },
            "outputs": [
                {
                    "output_type": "display_data",
                    "data": {
                        "text/html": "(41 rows affected)"
                    },
                    "metadata": {}
                },
                {
                    "output_type": "display_data",
                    "data": {
                        "text/html": "Total execution time: 00:00:00.048"
                    },
                    "metadata": {}
                },
                {
                    "output_type": "execute_result",
                    "metadata": {},
                    "execution_count": 34,
                    "data": {
                        "application/vnd.dataresource+json": {
                            "schema": {
                                "fields": [
                                    {
                                        "name": "Szallas_nev"
                                    },
                                    {
                                        "name": "POTAGY"
                                    },
                                    {
                                        "name": "Fo"
                                    }
                                ]
                            },
                            "data": [
                                {
                                    "Szallas_nev": "Családi Ház",
                                    "POTAGY": "0",
                                    "Fo": "10"
                                },
                                {
                                    "Szallas_nev": "Családi Ház",
                                    "POTAGY": "1",
                                    "Fo": "31"
                                },
                                {
                                    "Szallas_nev": "Családi Ház",
                                    "POTAGY": "2",
                                    "Fo": "11"
                                },
                                {
                                    "Szallas_nev": "Családi Ház",
                                    "POTAGY": "NULL",
                                    "Fo": "52"
                                },
                                {
                                    "Szallas_nev": "Fortuna Apartman",
                                    "POTAGY": "0",
                                    "Fo": "18"
                                },
                                {
                                    "Szallas_nev": "Fortuna Apartman",
                                    "POTAGY": "1",
                                    "Fo": "52"
                                },
                                {
                                    "Szallas_nev": "Fortuna Apartman",
                                    "POTAGY": "2",
                                    "Fo": "36"
                                },
                                {
                                    "Szallas_nev": "Fortuna Apartman",
                                    "POTAGY": "NULL",
                                    "Fo": "106"
                                },
                                {
                                    "Szallas_nev": "Fortuna Panzió",
                                    "POTAGY": "0",
                                    "Fo": "158"
                                },
                                {
                                    "Szallas_nev": "Fortuna panzió",
                                    "POTAGY": "1",
                                    "Fo": "113"
                                },
                                {
                                    "Szallas_nev": "Fortuna panzió",
                                    "POTAGY": "2",
                                    "Fo": "40"
                                },
                                {
                                    "Szallas_nev": "Fortuna Panzió",
                                    "POTAGY": "NULL",
                                    "Fo": "311"
                                },
                                {
                                    "Szallas_nev": "Gold Hotel",
                                    "POTAGY": "0",
                                    "Fo": "216"
                                },
                                {
                                    "Szallas_nev": "Gold Hotel",
                                    "POTAGY": "1",
                                    "Fo": "93"
                                },
                                {
                                    "Szallas_nev": "Gold Hotel",
                                    "POTAGY": "2",
                                    "Fo": "119"
                                },
                                {
                                    "Szallas_nev": "Gold Hotel",
                                    "POTAGY": "NULL",
                                    "Fo": "428"
                                },
                                {
                                    "Szallas_nev": "Hotel Három Hattyú",
                                    "POTAGY": "0",
                                    "Fo": "183"
                                },
                                {
                                    "Szallas_nev": "Hotel Három Hattyú",
                                    "POTAGY": "1",
                                    "Fo": "258"
                                },
                                {
                                    "Szallas_nev": "Hotel Három Hattyú",
                                    "POTAGY": "2",
                                    "Fo": "63"
                                },
                                {
                                    "Szallas_nev": "Hotel Három Hattyú",
                                    "POTAGY": "NULL",
                                    "Fo": "504"
                                },
                                {
                                    "Szallas_nev": "Jáde panzió",
                                    "POTAGY": "0",
                                    "Fo": "66"
                                },
                                {
                                    "Szallas_nev": "Jáde panzió",
                                    "POTAGY": "NULL",
                                    "Fo": "66"
                                },
                                {
                                    "Szallas_nev": "Kentaur Hotel",
                                    "POTAGY": "0",
                                    "Fo": "168"
                                },
                                {
                                    "Szallas_nev": "Kentaur Hotel",
                                    "POTAGY": "1",
                                    "Fo": "224"
                                },
                                {
                                    "Szallas_nev": "Kentaur Hotel",
                                    "POTAGY": "2",
                                    "Fo": "28"
                                },
                                {
                                    "Szallas_nev": "Kentaur Hotel",
                                    "POTAGY": "NULL",
                                    "Fo": "420"
                                },
                                {
                                    "Szallas_nev": "Lagúna Hotel",
                                    "POTAGY": "0",
                                    "Fo": "105"
                                },
                                {
                                    "Szallas_nev": "Lagúna Hotel",
                                    "POTAGY": "1",
                                    "Fo": "150"
                                },
                                {
                                    "Szallas_nev": "Lagúna Hotel",
                                    "POTAGY": "2",
                                    "Fo": "36"
                                },
                                {
                                    "Szallas_nev": "Lagúna Hotel",
                                    "POTAGY": "NULL",
                                    "Fo": "291"
                                },
                                {
                                    "Szallas_nev": "Partiszél Vendégház",
                                    "POTAGY": "0",
                                    "Fo": "31"
                                },
                                {
                                    "Szallas_nev": "Partiszél Vendégház",
                                    "POTAGY": "1",
                                    "Fo": "17"
                                },
                                {
                                    "Szallas_nev": "Partiszél Vendégház",
                                    "POTAGY": "2",
                                    "Fo": "15"
                                },
                                {
                                    "Szallas_nev": "Partiszél Vendégház",
                                    "POTAGY": "NULL",
                                    "Fo": "63"
                                },
                                {
                                    "Szallas_nev": "Sába-Ház",
                                    "POTAGY": "0",
                                    "Fo": "67"
                                },
                                {
                                    "Szallas_nev": "Sába-Ház",
                                    "POTAGY": "1",
                                    "Fo": "99"
                                },
                                {
                                    "Szallas_nev": "Sába-Ház",
                                    "POTAGY": "NULL",
                                    "Fo": "166"
                                },
                                {
                                    "Szallas_nev": "Szieszta Apartmanház",
                                    "POTAGY": "0",
                                    "Fo": "64"
                                },
                                {
                                    "Szallas_nev": "Szieszta Apartmanház",
                                    "POTAGY": "1",
                                    "Fo": "19"
                                },
                                {
                                    "Szallas_nev": "Szieszta Apartmanház",
                                    "POTAGY": "NULL",
                                    "Fo": "83"
                                },
                                {
                                    "Szallas_nev": "Vegosszeg",
                                    "POTAGY": "NULL",
                                    "Fo": "2490"
                                }
                            ]
                        },
                        "text/html": [
                            "<table>",
                            "<tr><th>Szallas_nev</th><th>POTAGY</th><th>Fo</th></tr>",
                            "<tr><td>Családi Ház</td><td>0</td><td>10</td></tr>",
                            "<tr><td>Családi Ház</td><td>1</td><td>31</td></tr>",
                            "<tr><td>Családi Ház</td><td>2</td><td>11</td></tr>",
                            "<tr><td>Családi Ház</td><td>NULL</td><td>52</td></tr>",
                            "<tr><td>Fortuna Apartman</td><td>0</td><td>18</td></tr>",
                            "<tr><td>Fortuna Apartman</td><td>1</td><td>52</td></tr>",
                            "<tr><td>Fortuna Apartman</td><td>2</td><td>36</td></tr>",
                            "<tr><td>Fortuna Apartman</td><td>NULL</td><td>106</td></tr>",
                            "<tr><td>Fortuna Panzió</td><td>0</td><td>158</td></tr>",
                            "<tr><td>Fortuna panzió</td><td>1</td><td>113</td></tr>",
                            "<tr><td>Fortuna panzió</td><td>2</td><td>40</td></tr>",
                            "<tr><td>Fortuna Panzió</td><td>NULL</td><td>311</td></tr>",
                            "<tr><td>Gold Hotel</td><td>0</td><td>216</td></tr>",
                            "<tr><td>Gold Hotel</td><td>1</td><td>93</td></tr>",
                            "<tr><td>Gold Hotel</td><td>2</td><td>119</td></tr>",
                            "<tr><td>Gold Hotel</td><td>NULL</td><td>428</td></tr>",
                            "<tr><td>Hotel Három Hattyú</td><td>0</td><td>183</td></tr>",
                            "<tr><td>Hotel Három Hattyú</td><td>1</td><td>258</td></tr>",
                            "<tr><td>Hotel Három Hattyú</td><td>2</td><td>63</td></tr>",
                            "<tr><td>Hotel Három Hattyú</td><td>NULL</td><td>504</td></tr>",
                            "<tr><td>Jáde panzió</td><td>0</td><td>66</td></tr>",
                            "<tr><td>Jáde panzió</td><td>NULL</td><td>66</td></tr>",
                            "<tr><td>Kentaur Hotel</td><td>0</td><td>168</td></tr>",
                            "<tr><td>Kentaur Hotel</td><td>1</td><td>224</td></tr>",
                            "<tr><td>Kentaur Hotel</td><td>2</td><td>28</td></tr>",
                            "<tr><td>Kentaur Hotel</td><td>NULL</td><td>420</td></tr>",
                            "<tr><td>Lagúna Hotel</td><td>0</td><td>105</td></tr>",
                            "<tr><td>Lagúna Hotel</td><td>1</td><td>150</td></tr>",
                            "<tr><td>Lagúna Hotel</td><td>2</td><td>36</td></tr>",
                            "<tr><td>Lagúna Hotel</td><td>NULL</td><td>291</td></tr>",
                            "<tr><td>Partiszél Vendégház</td><td>0</td><td>31</td></tr>",
                            "<tr><td>Partiszél Vendégház</td><td>1</td><td>17</td></tr>",
                            "<tr><td>Partiszél Vendégház</td><td>2</td><td>15</td></tr>",
                            "<tr><td>Partiszél Vendégház</td><td>NULL</td><td>63</td></tr>",
                            "<tr><td>Sába-Ház</td><td>0</td><td>67</td></tr>",
                            "<tr><td>Sába-Ház</td><td>1</td><td>99</td></tr>",
                            "<tr><td>Sába-Ház</td><td>NULL</td><td>166</td></tr>",
                            "<tr><td>Szieszta Apartmanház</td><td>0</td><td>64</td></tr>",
                            "<tr><td>Szieszta Apartmanház</td><td>1</td><td>19</td></tr>",
                            "<tr><td>Szieszta Apartmanház</td><td>NULL</td><td>83</td></tr>",
                            "<tr><td>Vegosszeg</td><td>NULL</td><td>2490</td></tr>",
                            "</table>"
                        ]
                    }
                }
            ],
            "execution_count": 34
        },
        {
            "cell_type": "markdown",
            "source": [
                "A Szoba tábla Ferohely oszlopára végezzük el a következő számításokat:\n",
                "\n",
                "- Különböző értékek száma\n",
                "- Minimum, maximum, átlag\n",
                "- Null és Not null értékek százalékos aránya"
            ],
            "metadata": {
                "azdata_cell_guid": "603b77de-4e12-44e7-a701-5dc5b01a59fa"
            },
            "attachments": {}
        },
        {
            "cell_type": "code",
            "source": [
                "SELECT\r\n",
                "    COUNT(DISTINCT FEROHELY) AS 'Kulonbozo_Ertekek',\r\n",
                "    MIN(FEROHELY) AS 'Min_Ferohely',\r\n",
                "    MAX(FEROHELY) AS 'Max_Ferohely',\r\n",
                "    AVG(FEROHELY) AS 'Atlag_Ferohely',\r\n",
                "    (COUNT(FEROHELY) * 100.0 / COUNT(*)) AS 'Not_Null_Szazalek',\r\n",
                "    ((COUNT(*) - COUNT(FEROHELY)) * 100.0 / COUNT(*)) AS 'Null_Szazalek'\r\n",
                "FROM Szoba;"
            ],
            "metadata": {
                "azdata_cell_guid": "5b333ad5-a4c8-436d-a835-57a3461895ff",
                "language": "sql"
            },
            "outputs": [
                {
                    "output_type": "display_data",
                    "data": {
                        "text/html": "(1 row affected)"
                    },
                    "metadata": {}
                },
                {
                    "output_type": "display_data",
                    "data": {
                        "text/html": "Total execution time: 00:00:00.017"
                    },
                    "metadata": {}
                },
                {
                    "output_type": "execute_result",
                    "metadata": {},
                    "execution_count": 31,
                    "data": {
                        "application/vnd.dataresource+json": {
                            "schema": {
                                "fields": [
                                    {
                                        "name": "Kulonbozo_Ertekek"
                                    },
                                    {
                                        "name": "Min_Ferohely"
                                    },
                                    {
                                        "name": "Max_Ferohely"
                                    },
                                    {
                                        "name": "Atlag_Ferohely"
                                    },
                                    {
                                        "name": "Not_Null_Szazalek"
                                    },
                                    {
                                        "name": "Null_Szazalek"
                                    }
                                ]
                            },
                            "data": [
                                {
                                    "Kulonbozo_Ertekek": "4",
                                    "Min_Ferohely": "1",
                                    "Max_Ferohely": "4",
                                    "Atlag_Ferohely": "2",
                                    "Not_Null_Szazalek": "100.000000000000",
                                    "Null_Szazalek": "0.000000000000"
                                }
                            ]
                        },
                        "text/html": [
                            "<table>",
                            "<tr><th>Kulonbozo_Ertekek</th><th>Min_Ferohely</th><th>Max_Ferohely</th><th>Atlag_Ferohely</th><th>Not_Null_Szazalek</th><th>Null_Szazalek</th></tr>",
                            "<tr><td>4</td><td>1</td><td>4</td><td>2</td><td>100.000000000000</td><td>0.000000000000</td></tr>",
                            "</table>"
                        ]
                    }
                }
            ],
            "execution_count": 31
        }
    ]
}